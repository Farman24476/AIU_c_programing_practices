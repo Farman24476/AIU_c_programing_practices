{
  "cells": [
    {
      "cell_type": "markdown",
      "metadata": {
        "id": "view-in-github",
        "colab_type": "text"
      },
      "source": [
        "<a href=\"https://colab.research.google.com/github/Farman24476/AIU_c_programing_practices/blob/main/lab4.ipynb\" target=\"_parent\"><img src=\"https://colab.research.google.com/assets/colab-badge.svg\" alt=\"Open In Colab\"/></a>"
      ]
    },
    {
      "cell_type": "markdown",
      "id": "7c9c9bd0",
      "metadata": {
        "id": "7c9c9bd0"
      },
      "source": [
        "# Built-in Data Type in Python"
      ]
    },
    {
      "cell_type": "markdown",
      "id": "22a81286",
      "metadata": {
        "id": "22a81286"
      },
      "source": [
        "# List\n",
        "Lists are used to store multiple items in a single variable.\n",
        "\n",
        "Lists are one of 4 built-in data types in Python used to store collections of data, the other 3 are Tuple, Set, and Dictionary, all with different qualities and usage.\n",
        "\n",
        "Lists are created using square brackets:"
      ]
    },
    {
      "cell_type": "code",
      "execution_count": null,
      "id": "ecaa3398",
      "metadata": {
        "id": "ecaa3398",
        "outputId": "f738ae44-517f-40de-ccab-bf713cc08394"
      },
      "outputs": [
        {
          "name": "stdout",
          "output_type": "stream",
          "text": [
            "['apple', 'banana', 'cherry']\n"
          ]
        }
      ],
      "source": [
        "# Example\n",
        "thislist = [\"apple\", \"banana\", \"cherry\"]\n",
        "print(thislist)"
      ]
    },
    {
      "cell_type": "markdown",
      "id": "122f8ac5",
      "metadata": {
        "id": "122f8ac5"
      },
      "source": [
        "# List Items\n",
        "List items are ordered, changeable, and allow duplicate values.\n",
        "\n",
        "List items are indexed, the first item has index [0], the second item has index [1] etc.\n",
        "\n",
        "## Ordered\n",
        "When we say that lists are ordered, it means that the items have a defined order, and that order will not change.\n",
        "\n",
        "If you add new items to a list, the new items will be placed at the end of the list.\n",
        "\n",
        "$Note:$ There are some list methods that will change the order, but in general: the order of the items will not change.\n",
        "\n",
        "## Changeable\n",
        "The list is changeable, meaning that we can change, add, and remove items in a list after it has been created.\n",
        "\n",
        "## Allow Duplicates\n",
        "Since lists are indexed, lists can have items with the same value:"
      ]
    },
    {
      "cell_type": "code",
      "execution_count": null,
      "id": "f8ba3aa0",
      "metadata": {
        "id": "f8ba3aa0",
        "outputId": "c13614b8-11b5-4dcf-c61e-6a4b891bd43a"
      },
      "outputs": [
        {
          "name": "stdout",
          "output_type": "stream",
          "text": [
            "['apple', 'banana', 'cherry', 'apple', 'cherry']\n"
          ]
        }
      ],
      "source": [
        "#Example\n",
        "#Lists allow duplicate values:\n",
        "\n",
        "thislist = [\"apple\", \"banana\", \"cherry\", \"apple\", \"cherry\"]\n",
        "print(thislist)"
      ]
    },
    {
      "cell_type": "markdown",
      "id": "ee54ad36",
      "metadata": {
        "id": "ee54ad36"
      },
      "source": [
        "# List Length\n",
        "To determine how many items a list has, use the $len()$ function:"
      ]
    },
    {
      "cell_type": "code",
      "execution_count": null,
      "id": "6143fc45",
      "metadata": {
        "id": "6143fc45",
        "outputId": "6fe75cca-b871-4b10-eb23-b35e23131106"
      },
      "outputs": [
        {
          "name": "stdout",
          "output_type": "stream",
          "text": [
            "3\n"
          ]
        }
      ],
      "source": [
        "#Example\n",
        "#Print the number of items in the list:\n",
        "\n",
        "thislist = [\"apple\", \"banana\", \"cherry\"]\n",
        "print(len(thislist))"
      ]
    },
    {
      "cell_type": "markdown",
      "id": "6ffe4ec9",
      "metadata": {
        "id": "6ffe4ec9"
      },
      "source": [
        "# List Items - Data Types\n",
        "List items can be of any data type:"
      ]
    },
    {
      "cell_type": "code",
      "execution_count": null,
      "id": "c27e9a16",
      "metadata": {
        "id": "c27e9a16"
      },
      "outputs": [],
      "source": [
        "#Example\n",
        "#String, int and boolean data types:\n",
        "\n",
        "list1 = [\"apple\", \"banana\", \"cherry\"]\n",
        "list2 = [1, 5, 7, 9, 3]\n",
        "list3 = [True, False, False]"
      ]
    },
    {
      "cell_type": "markdown",
      "id": "1a293685",
      "metadata": {
        "id": "1a293685"
      },
      "source": [
        "A list can contain different data types:"
      ]
    },
    {
      "cell_type": "code",
      "execution_count": null,
      "id": "b88dbc58",
      "metadata": {
        "id": "b88dbc58"
      },
      "outputs": [],
      "source": [
        "#Example\n",
        "#A list with strings, integers and boolean values:\n",
        "\n",
        "list1 = [\"abc\", 34, True, 40, \"male\"]"
      ]
    },
    {
      "cell_type": "markdown",
      "id": "99541cad",
      "metadata": {
        "id": "99541cad"
      },
      "source": [
        "# type()\n",
        "From Python's perspective, lists are defined as objects with the data type 'list':\n",
        "\n",
        "<class 'list'>"
      ]
    },
    {
      "cell_type": "code",
      "execution_count": null,
      "id": "2537d489",
      "metadata": {
        "id": "2537d489",
        "outputId": "bb5c83ef-8c61-41c2-883c-dd573befe5f9"
      },
      "outputs": [
        {
          "name": "stdout",
          "output_type": "stream",
          "text": [
            "<class 'list'>\n"
          ]
        }
      ],
      "source": [
        "#Example\n",
        "#What is the data type of a list?\n",
        "\n",
        "mylist = [\"apple\", \"banana\", \"cherry\"]\n",
        "print(type(mylist))"
      ]
    },
    {
      "cell_type": "markdown",
      "id": "248e8d1f",
      "metadata": {
        "id": "248e8d1f"
      },
      "source": [
        "# The list() Constructor\n",
        "It is also possible to use the $list()$ constructor when creating a new list."
      ]
    },
    {
      "cell_type": "code",
      "execution_count": null,
      "id": "5b832124",
      "metadata": {
        "id": "5b832124",
        "outputId": "c217941f-c83e-47bf-d6fa-ef616ef20783"
      },
      "outputs": [
        {
          "name": "stdout",
          "output_type": "stream",
          "text": [
            "['apple', 'banana', 'cherry']\n"
          ]
        }
      ],
      "source": [
        "#Example\n",
        "#Using the list() constructor to make a List:\n",
        "\n",
        "thislist = list((\"apple\", \"banana\", \"cherry\")) # note the double round-brackets\n",
        "print(thislist)"
      ]
    },
    {
      "cell_type": "markdown",
      "id": "b7d8f58c",
      "metadata": {
        "id": "b7d8f58c"
      },
      "source": [
        "# Python Collections (Arrays)\n",
        "There are four collection data types in the Python programming language:\n",
        "\n",
        "- List is a collection which is ordered and changeable. Allows duplicate members.\n",
        "- Tuple is a collection which is ordered and unchangeable. Allows duplicate members.\n",
        "- Set is a collection which is unordered, unchangeable*, and unindexed. No duplicate members.\n",
        "- Dictionary is a collection which is ordered** and changeable. No duplicate members.\n",
        "\n",
        "*Set items are unchangeable, but you can remove and/or add items whenever you like.\n",
        "\n",
        "**As of Python version 3.7, dictionaries are ordered. In Python 3.6 and earlier, dictionaries are unordered.\n",
        "\n",
        "When choosing a collection type, it is useful to understand the properties of that type. Choosing the right type for a particular data set could mean retention of meaning, and, it could mean an increase in efficiency or security."
      ]
    },
    {
      "cell_type": "markdown",
      "id": "a602d5fb",
      "metadata": {
        "id": "a602d5fb"
      },
      "source": [
        "# Access Items\n",
        "List items are indexed and you can access them by referring to the index number:"
      ]
    },
    {
      "cell_type": "code",
      "execution_count": null,
      "id": "b472cc1d",
      "metadata": {
        "id": "b472cc1d",
        "outputId": "8599c460-299a-4ce3-cdc1-b466d1eca301"
      },
      "outputs": [
        {
          "name": "stdout",
          "output_type": "stream",
          "text": [
            "banana\n"
          ]
        }
      ],
      "source": [
        "#Example\n",
        "#Print the second item of the list:\n",
        "\n",
        "thislist = [\"apple\", \"banana\", \"cherry\"]\n",
        "print(thislist[1])"
      ]
    },
    {
      "cell_type": "markdown",
      "id": "9468c85c",
      "metadata": {
        "id": "9468c85c"
      },
      "source": [
        "Note: The first item has index 0.\n",
        "\n",
        "# Negative Indexing\n",
        "Negative indexing means start from the end\n",
        "\n",
        "-1 refers to the last item, -2 refers to the second last item etc."
      ]
    },
    {
      "cell_type": "code",
      "execution_count": null,
      "id": "14c89709",
      "metadata": {
        "id": "14c89709",
        "outputId": "f35fd514-967c-4644-db53-79b39eb3eda4"
      },
      "outputs": [
        {
          "name": "stdout",
          "output_type": "stream",
          "text": [
            "cherry\n"
          ]
        }
      ],
      "source": [
        "#Example\n",
        "#Print the last item of the list:\n",
        "\n",
        "thislist = [\"apple\", \"banana\", \"cherry\"]\n",
        "print(thislist[-1])"
      ]
    },
    {
      "cell_type": "markdown",
      "id": "2f5c55a1",
      "metadata": {
        "id": "2f5c55a1"
      },
      "source": [
        "# Change Item Value\n",
        "To change the value of a specific item, refer to the index number:"
      ]
    },
    {
      "cell_type": "code",
      "execution_count": null,
      "id": "0d86f262",
      "metadata": {
        "id": "0d86f262",
        "outputId": "80e0df12-76a1-4e16-cf72-05ffa21d1216"
      },
      "outputs": [
        {
          "name": "stdout",
          "output_type": "stream",
          "text": [
            "['apple', 'blackcurrant', 'cherry']\n"
          ]
        }
      ],
      "source": [
        "#Example\n",
        "#Change the second item:\n",
        "\n",
        "thislist = [\"apple\", \"banana\", \"cherry\"]\n",
        "thislist[1] = \"blackcurrant\"\n",
        "print(thislist)"
      ]
    },
    {
      "cell_type": "markdown",
      "id": "4f6dcb92",
      "metadata": {
        "id": "4f6dcb92"
      },
      "source": [
        "# Change a Range of Item Values\n",
        "To change the value of items within a specific range, define a list with the new values, and refer to the range of index numbers where you want to insert the new values:"
      ]
    },
    {
      "cell_type": "code",
      "execution_count": null,
      "id": "b2fb7a8f",
      "metadata": {
        "id": "b2fb7a8f",
        "outputId": "f5dea288-1d7d-48d2-ad0e-327f9ed564df"
      },
      "outputs": [
        {
          "name": "stdout",
          "output_type": "stream",
          "text": [
            "['apple', 'blackcurrant', 'watermelon', 'orange', 'kiwi', 'mango']\n"
          ]
        }
      ],
      "source": [
        "#Example\n",
        "#Change the values \"banana\" and \"cherry\" with the values \"blackcurrant\" and \"watermelon\":\n",
        "\n",
        "thislist = [\"apple\", \"banana\", \"cherry\", \"orange\", \"kiwi\", \"mango\"]\n",
        "thislist[1:3] = [\"blackcurrant\", \"watermelon\"]\n",
        "print(thislist)"
      ]
    },
    {
      "cell_type": "markdown",
      "id": "ec6f9f2b",
      "metadata": {
        "id": "ec6f9f2b"
      },
      "source": [
        "# Insert Items\n",
        "To insert a new list item, without replacing any of the existing values, we can use the insert() method.\n",
        "\n",
        "The $insert()$ method inserts an item at the specified index:"
      ]
    },
    {
      "cell_type": "code",
      "execution_count": null,
      "id": "32e57d9d",
      "metadata": {
        "id": "32e57d9d",
        "outputId": "a88763dc-7b04-48eb-9fdb-03b43b49ffaf"
      },
      "outputs": [
        {
          "name": "stdout",
          "output_type": "stream",
          "text": [
            "['apple', 'banana', 'watermelon', 'cherry']\n"
          ]
        }
      ],
      "source": [
        "#Example\n",
        "#Insert \"watermelon\" as the third item:\n",
        "\n",
        "thislist = [\"apple\", \"banana\", \"cherry\"]\n",
        "thislist.insert(2, \"watermelon\")\n",
        "print(thislist)"
      ]
    },
    {
      "cell_type": "markdown",
      "id": "2d546dd8",
      "metadata": {
        "id": "2d546dd8"
      },
      "source": [
        "# Append Items\n",
        "To add an item to the end of the list, use the $append()$ method:"
      ]
    },
    {
      "cell_type": "code",
      "execution_count": null,
      "id": "4d779829",
      "metadata": {
        "id": "4d779829",
        "outputId": "ba9e0c29-f8d2-4b38-cd30-268f13037d4a"
      },
      "outputs": [
        {
          "ename": "SyntaxError",
          "evalue": "unexpected EOF while parsing (Temp/ipykernel_20456/3079825778.py, line 6)",
          "output_type": "error",
          "traceback": [
            "\u001b[1;36m  File \u001b[1;32m\"C:\\Users\\DRAKIB~1\\AppData\\Local\\Temp/ipykernel_20456/3079825778.py\"\u001b[1;36m, line \u001b[1;32m6\u001b[0m\n\u001b[1;33m    print(thislist\u001b[0m\n\u001b[1;37m                  ^\u001b[0m\n\u001b[1;31mSyntaxError\u001b[0m\u001b[1;31m:\u001b[0m unexpected EOF while parsing\n"
          ]
        }
      ],
      "source": [
        "#Example\n",
        "#Using the append() method to append an item:\n",
        "\n",
        "thislist = [\"apple\", \"banana\", \"cherry\"]\n",
        "thislist.append(\"orange\")\n",
        "print(thislist"
      ]
    },
    {
      "cell_type": "markdown",
      "id": "37768101",
      "metadata": {
        "id": "37768101"
      },
      "source": [
        "# Insert Items\n",
        "To insert a list item at a specified index, use the $insert()$ method.\n",
        "\n",
        "The $insert()$ method inserts an item at the specified index:"
      ]
    },
    {
      "cell_type": "code",
      "execution_count": null,
      "id": "6bc55205",
      "metadata": {
        "id": "6bc55205",
        "outputId": "28adb9fd-780d-4e57-d557-21fd5321e656"
      },
      "outputs": [
        {
          "name": "stdout",
          "output_type": "stream",
          "text": [
            "['apple', 'orange', 'banana', 'cherry']\n"
          ]
        }
      ],
      "source": [
        "#Example\n",
        "#Insert an item as the second position:\n",
        "\n",
        "thislist = [\"apple\", \"banana\", \"cherry\"]\n",
        "thislist.insert(1, \"orange\")\n",
        "print(thislist)"
      ]
    },
    {
      "cell_type": "markdown",
      "id": "d17b1d5a",
      "metadata": {
        "id": "d17b1d5a"
      },
      "source": [
        "# Extend List\n",
        "To append elements from another list to the current list, use the $extend()$ method."
      ]
    },
    {
      "cell_type": "code",
      "execution_count": null,
      "id": "45888c8a",
      "metadata": {
        "id": "45888c8a",
        "outputId": "8eff9dbe-fb1f-448d-a937-6bc782854dad"
      },
      "outputs": [
        {
          "name": "stdout",
          "output_type": "stream",
          "text": [
            "['apple', 'banana', 'cherry', 'mango', 'pineapple', 'papaya']\n"
          ]
        }
      ],
      "source": [
        "#Example\n",
        "#Add the elements of tropical to thislist:\n",
        "\n",
        "thislist = [\"apple\", \"banana\", \"cherry\"]\n",
        "tropical = [\"mango\", \"pineapple\", \"papaya\"]\n",
        "thislist.extend(tropical)\n",
        "print(thislist)"
      ]
    },
    {
      "cell_type": "markdown",
      "id": "d3f600e8",
      "metadata": {
        "id": "d3f600e8"
      },
      "source": [
        "The elements will be added to the end of the list.\n",
        "\n",
        "# Add Any Iterable\n",
        "The $extend()$ method does not have to append lists, you can add any iterable object (tuples, sets, dictionaries etc.)."
      ]
    },
    {
      "cell_type": "code",
      "execution_count": null,
      "id": "145f3b4d",
      "metadata": {
        "id": "145f3b4d",
        "outputId": "3904d1ef-cb72-40df-867d-26826ab91762"
      },
      "outputs": [
        {
          "name": "stdout",
          "output_type": "stream",
          "text": [
            "['apple', 'banana', 'cherry', 'kiwi', 'orange']\n"
          ]
        }
      ],
      "source": [
        "#Example\n",
        "#Add elements of a tuple to a list:\n",
        "\n",
        "thislist = [\"apple\", \"banana\", \"cherry\"]\n",
        "thistuple = (\"kiwi\", \"orange\")\n",
        "thislist.extend(thistuple)\n",
        "print(thislist)"
      ]
    },
    {
      "cell_type": "markdown",
      "id": "244d801c",
      "metadata": {
        "id": "244d801c"
      },
      "source": [
        "# Remove Specified Item\n",
        "The $remove()$ method removes the specified item."
      ]
    },
    {
      "cell_type": "code",
      "execution_count": null,
      "id": "705a6d6c",
      "metadata": {
        "id": "705a6d6c",
        "outputId": "729f4bb9-310f-4168-c9ea-5931269f4ca4"
      },
      "outputs": [
        {
          "name": "stdout",
          "output_type": "stream",
          "text": [
            "['apple', 'cherry']\n"
          ]
        }
      ],
      "source": [
        "#Example\n",
        "#Remove \"banana\":\n",
        "\n",
        "thislist = [\"apple\", \"banana\", \"cherry\"]\n",
        "thislist.remove(\"banana\")\n",
        "print(thislist)"
      ]
    },
    {
      "cell_type": "markdown",
      "id": "2c3783fc",
      "metadata": {
        "id": "2c3783fc"
      },
      "source": [
        "# Remove Specified Index\n",
        "The $pop()$ method removes the specified index."
      ]
    },
    {
      "cell_type": "code",
      "execution_count": null,
      "id": "edbba1d4",
      "metadata": {
        "id": "edbba1d4",
        "outputId": "62a20034-63fc-4741-e6c5-b23331e0a995"
      },
      "outputs": [
        {
          "name": "stdout",
          "output_type": "stream",
          "text": [
            "['apple', 'cherry']\n"
          ]
        }
      ],
      "source": [
        "#Example\n",
        "#Remove the second item:\n",
        "\n",
        "thislist = [\"apple\", \"banana\", \"cherry\"]\n",
        "thislist.pop(1)\n",
        "print(thislist)"
      ]
    },
    {
      "cell_type": "markdown",
      "id": "d517aa88",
      "metadata": {
        "id": "d517aa88"
      },
      "source": [
        "If you do not specify the index, the pop() method removes the last item."
      ]
    },
    {
      "cell_type": "code",
      "execution_count": null,
      "id": "32aaa7f8",
      "metadata": {
        "id": "32aaa7f8",
        "outputId": "5c158546-080a-430c-c094-d7b6176e0e03"
      },
      "outputs": [
        {
          "name": "stdout",
          "output_type": "stream",
          "text": [
            "['apple', 'banana']\n"
          ]
        }
      ],
      "source": [
        "#Example\n",
        "#Remove the last item:\n",
        "\n",
        "thislist = [\"apple\", \"banana\", \"cherry\"]\n",
        "thislist.pop()\n",
        "print(thislist)"
      ]
    },
    {
      "cell_type": "markdown",
      "id": "5e253102",
      "metadata": {
        "id": "5e253102"
      },
      "source": [
        "The $del$ keyword also removes the specified index:"
      ]
    },
    {
      "cell_type": "code",
      "execution_count": null,
      "id": "750148a8",
      "metadata": {
        "id": "750148a8",
        "outputId": "23fda551-d740-4902-b3df-87031ade0c58"
      },
      "outputs": [
        {
          "name": "stdout",
          "output_type": "stream",
          "text": [
            "['banana', 'cherry']\n"
          ]
        }
      ],
      "source": [
        "#Example\n",
        "#Remove the first item:\n",
        "\n",
        "thislist = [\"apple\", \"banana\", \"cherry\"]\n",
        "del thislist[0]\n",
        "print(thislist)"
      ]
    },
    {
      "cell_type": "markdown",
      "id": "b63524bf",
      "metadata": {
        "id": "b63524bf"
      },
      "source": [
        "The $del$ keyword can also delete the list completely."
      ]
    },
    {
      "cell_type": "code",
      "execution_count": null,
      "id": "d6224ec8",
      "metadata": {
        "id": "d6224ec8"
      },
      "outputs": [],
      "source": [
        "#Example\n",
        "#Delete the entire list:\n",
        "\n",
        "thislist = [\"apple\", \"banana\", \"cherry\"]\n",
        "del thislist"
      ]
    },
    {
      "cell_type": "markdown",
      "id": "aa2e85ea",
      "metadata": {
        "id": "aa2e85ea"
      },
      "source": [
        "# Clear the List\n",
        "The $clear()$ method empties the list.\n",
        "\n",
        "The list still remains, but it has no content."
      ]
    },
    {
      "cell_type": "code",
      "execution_count": null,
      "id": "07e663e1",
      "metadata": {
        "id": "07e663e1",
        "outputId": "fb815abe-61ec-4c28-82f8-62ee843af18b"
      },
      "outputs": [
        {
          "name": "stdout",
          "output_type": "stream",
          "text": [
            "[]\n"
          ]
        }
      ],
      "source": [
        "#Example\n",
        "#Clear the list content:\n",
        "\n",
        "thislist = [\"apple\", \"banana\", \"cherry\"]\n",
        "thislist.clear()\n",
        "print(thislist)"
      ]
    },
    {
      "cell_type": "markdown",
      "id": "e15d6844",
      "metadata": {
        "id": "e15d6844"
      },
      "source": [
        "# Sort List Alphanumerically\n",
        "List objects have a $sort()$ method that will sort the list alphanumerically, ascending, by default:"
      ]
    },
    {
      "cell_type": "code",
      "execution_count": null,
      "id": "6cc145dc",
      "metadata": {
        "id": "6cc145dc",
        "outputId": "e122b5d0-9b04-440f-90bf-ac37b767b6cd"
      },
      "outputs": [
        {
          "name": "stdout",
          "output_type": "stream",
          "text": [
            "['banana', 'kiwi', 'mango', 'orange', 'pineapple']\n"
          ]
        }
      ],
      "source": [
        "#Example\n",
        "#Sort the list alphabetically:\n",
        "\n",
        "thislist = [\"orange\", \"mango\", \"kiwi\", \"pineapple\", \"banana\"]\n",
        "thislist.sort()\n",
        "print(thislist)"
      ]
    },
    {
      "cell_type": "code",
      "execution_count": null,
      "id": "07e1e0de",
      "metadata": {
        "id": "07e1e0de",
        "outputId": "bfb614df-7a2f-418e-df44-8474187ec8cc"
      },
      "outputs": [
        {
          "name": "stdout",
          "output_type": "stream",
          "text": [
            "[23, 50, 65, 82, 100]\n"
          ]
        }
      ],
      "source": [
        "#Example\n",
        "#Sort the list numerically:\n",
        "\n",
        "thislist = [100, 50, 65, 82, 23]\n",
        "thislist.sort()\n",
        "print(thislist)"
      ]
    },
    {
      "cell_type": "markdown",
      "id": "73df9728",
      "metadata": {
        "id": "73df9728"
      },
      "source": [
        "# Sort Descending\n",
        "To sort descending, use the keyword argument $reverse = True:$"
      ]
    },
    {
      "cell_type": "code",
      "execution_count": null,
      "id": "ec989636",
      "metadata": {
        "id": "ec989636",
        "outputId": "cbcf6ceb-9be0-4e35-f5a3-fbe16f8b937b"
      },
      "outputs": [
        {
          "name": "stdout",
          "output_type": "stream",
          "text": [
            "['pineapple', 'orange', 'mango', 'kiwi', 'banana']\n"
          ]
        }
      ],
      "source": [
        "#Example\n",
        "#Sort the list descending:\n",
        "\n",
        "thislist = [\"orange\", \"mango\", \"kiwi\", \"pineapple\", \"banana\"]\n",
        "thislist.sort(reverse = True)\n",
        "print(thislist)"
      ]
    },
    {
      "cell_type": "code",
      "execution_count": null,
      "id": "06a41265",
      "metadata": {
        "id": "06a41265",
        "outputId": "408905b3-2613-44d9-eb43-e18e1d9eb4fb"
      },
      "outputs": [
        {
          "name": "stdout",
          "output_type": "stream",
          "text": [
            "[100, 82, 65, 50, 23]\n"
          ]
        }
      ],
      "source": [
        "#Example\n",
        "#Sort the list descending:\n",
        "\n",
        "thislist = [100, 50, 65, 82, 23]\n",
        "thislist.sort(reverse = True)\n",
        "print(thislist)"
      ]
    },
    {
      "cell_type": "markdown",
      "id": "5737d632",
      "metadata": {
        "id": "5737d632"
      },
      "source": [
        "# Copy a List\n",
        "You cannot copy a list simply by typing list2 = list1, because: list2 will only be a reference to list1, and changes made in list1 will automatically also be made in list2.\n",
        "\n",
        "There are ways to make a copy, one way is to use the built-in List method $copy()$."
      ]
    },
    {
      "cell_type": "code",
      "execution_count": null,
      "id": "a5211aa7",
      "metadata": {
        "id": "a5211aa7",
        "outputId": "4ddefd7b-ed15-4449-a389-796350b8dad7"
      },
      "outputs": [
        {
          "name": "stdout",
          "output_type": "stream",
          "text": [
            "['apple', 'banana', 'cherry']\n"
          ]
        }
      ],
      "source": [
        "#Example\n",
        "#Make a copy of a list with the copy() method:\n",
        "\n",
        "thislist = [\"apple\", \"banana\", \"cherry\"]\n",
        "mylist = thislist.copy()\n",
        "print(mylist)"
      ]
    },
    {
      "cell_type": "markdown",
      "id": "5ce51a3c",
      "metadata": {
        "id": "5ce51a3c"
      },
      "source": [
        "Another way to make a copy is to use the built-in method $list()$."
      ]
    },
    {
      "cell_type": "code",
      "execution_count": null,
      "id": "3fb56a0f",
      "metadata": {
        "id": "3fb56a0f",
        "outputId": "40154f8b-b87b-4f8b-a3c8-23f527e3e33e"
      },
      "outputs": [
        {
          "name": "stdout",
          "output_type": "stream",
          "text": [
            "['apple', 'banana', 'cherry']\n"
          ]
        }
      ],
      "source": [
        "#Example\n",
        "#Make a copy of a list with the list() method:\n",
        "\n",
        "thislist = [\"apple\", \"banana\", \"cherry\"]\n",
        "mylist = list(thislist)\n",
        "print(mylist)"
      ]
    },
    {
      "cell_type": "markdown",
      "id": "4cdc8cfa",
      "metadata": {
        "id": "4cdc8cfa"
      },
      "source": [
        "# Join Two Lists\n",
        "There are several ways to join, or concatenate, two or more lists in Python.\n",
        "\n",
        "One of the easiest ways are by using the $+$ operator."
      ]
    },
    {
      "cell_type": "code",
      "execution_count": null,
      "id": "deec9c88",
      "metadata": {
        "id": "deec9c88",
        "outputId": "585a238a-66dd-49b8-9d55-92667c056c97"
      },
      "outputs": [
        {
          "name": "stdout",
          "output_type": "stream",
          "text": [
            "['a', 'b', 'c', 1, 2, 3]\n"
          ]
        }
      ],
      "source": [
        "#Example\n",
        "#Join two list:\n",
        "\n",
        "list1 = [\"a\", \"b\", \"c\"]\n",
        "list2 = [1, 2, 3]\n",
        "\n",
        "list3 = list1 + list2\n",
        "print(list3)"
      ]
    },
    {
      "cell_type": "markdown",
      "id": "21fa27a4",
      "metadata": {
        "id": "21fa27a4"
      },
      "source": [
        "# Tuples\n",
        "\n",
        "Tuples are used to store multiple items in a single variable.\n",
        "\n",
        "Tuple is one of 4 built-in data types in Python used to store collections of data, the other 3 are List, Set, and Dictionary, all with different qualities and usage.\n",
        "\n",
        "A tuple is a collection which is ordered and unchangeable.\n",
        "\n",
        "Tuples are written with round brackets.\n"
      ]
    },
    {
      "cell_type": "code",
      "execution_count": null,
      "id": "aa428b4e",
      "metadata": {
        "id": "aa428b4e",
        "outputId": "bc4bd6ca-9a1f-47bd-bceb-a8ef7a5cac72"
      },
      "outputs": [
        {
          "name": "stdout",
          "output_type": "stream",
          "text": [
            "('apple', 'banana', 'cherry')\n"
          ]
        }
      ],
      "source": [
        "#Example\n",
        "#Create a Tuple:\n",
        "\n",
        "thistuple = (\"apple\", \"banana\", \"cherry\")\n",
        "print(thistuple)"
      ]
    },
    {
      "cell_type": "markdown",
      "id": "4873435b",
      "metadata": {
        "id": "4873435b"
      },
      "source": [
        "# Tuple Items\n",
        "Tuple items are ordered, unchangeable, and allow duplicate values.\n",
        "\n",
        "Tuple items are indexed, the first item has index [0], the second item has index [1] etc.\n",
        "\n",
        "## Ordered\n",
        "When we say that tuples are ordered, it means that the items have a defined order, and that order will not change.\n",
        "\n",
        "## Unchangeable\n",
        "Tuples are unchangeable, meaning that we cannot change, add or remove items after the tuple has been created.\n",
        "\n",
        "## Allow Duplicates\n",
        "Since tuples are indexed, they can have items with the same value:"
      ]
    },
    {
      "cell_type": "code",
      "execution_count": null,
      "id": "cdd65825",
      "metadata": {
        "id": "cdd65825",
        "outputId": "df32e7e3-9780-421e-9ead-7488273e0164"
      },
      "outputs": [
        {
          "name": "stdout",
          "output_type": "stream",
          "text": [
            "('apple', 'banana', 'cherry', 'apple', 'cherry')\n"
          ]
        }
      ],
      "source": [
        "#Example\n",
        "#Tuples allow duplicate values:\n",
        "\n",
        "thistuple = (\"apple\", \"banana\", \"cherry\", \"apple\", \"cherry\")\n",
        "print(thistuple)"
      ]
    },
    {
      "cell_type": "markdown",
      "id": "704632ef",
      "metadata": {
        "id": "704632ef"
      },
      "source": [
        "# Tuple Length\n",
        "To determine how many items a tuple has, use the $len()$ function:"
      ]
    },
    {
      "cell_type": "code",
      "execution_count": null,
      "id": "f4da642a",
      "metadata": {
        "id": "f4da642a",
        "outputId": "a56e4b9b-f119-408b-893f-b26e96fdde07"
      },
      "outputs": [
        {
          "name": "stdout",
          "output_type": "stream",
          "text": [
            "3\n"
          ]
        }
      ],
      "source": [
        "#Example\n",
        "#Print the number of items in the tuple:\n",
        "\n",
        "thistuple = (\"apple\", \"banana\", \"cherry\")\n",
        "print(len(thistuple))"
      ]
    },
    {
      "cell_type": "markdown",
      "id": "d528787d",
      "metadata": {
        "id": "d528787d"
      },
      "source": [
        "# Create Tuple With One Item\n",
        "To create a tuple with only one item, you have to add a comma after the item, otherwise Python will not recognize it as a tuple."
      ]
    },
    {
      "cell_type": "code",
      "execution_count": null,
      "id": "e67c4bde",
      "metadata": {
        "id": "e67c4bde",
        "outputId": "3df70409-7b23-4d07-82dc-a7f3b081ca7c"
      },
      "outputs": [
        {
          "name": "stdout",
          "output_type": "stream",
          "text": [
            "<class 'tuple'>\n",
            "<class 'str'>\n"
          ]
        }
      ],
      "source": [
        "#Example\n",
        "#One item tuple, remember the comma:\n",
        "\n",
        "thistuple = (\"apple\",)\n",
        "print(type(thistuple))\n",
        "\n",
        "#NOT a tuple\n",
        "thistuple = (\"apple\")\n",
        "print(type(thistuple))"
      ]
    },
    {
      "cell_type": "markdown",
      "id": "64941fd1",
      "metadata": {
        "id": "64941fd1"
      },
      "source": [
        "# Tuple Items - Data Types\n",
        "Tuple items can be of any data type:"
      ]
    },
    {
      "cell_type": "code",
      "execution_count": null,
      "id": "aef1baf0",
      "metadata": {
        "id": "aef1baf0"
      },
      "outputs": [],
      "source": [
        "#Example\n",
        "#String, int and boolean data types:\n",
        "\n",
        "tuple1 = (\"apple\", \"banana\", \"cherry\")\n",
        "tuple2 = (1, 5, 7, 9, 3)\n",
        "tuple3 = (True, False, False)"
      ]
    },
    {
      "cell_type": "markdown",
      "id": "3c93c6e0",
      "metadata": {
        "id": "3c93c6e0"
      },
      "source": [
        "A tuple can contain different data types:"
      ]
    },
    {
      "cell_type": "code",
      "execution_count": null,
      "id": "b5fed42e",
      "metadata": {
        "id": "b5fed42e"
      },
      "outputs": [],
      "source": [
        "#Example\n",
        "#A tuple with strings, integers and boolean values:\n",
        "\n",
        "tuple1 = (\"abc\", 34, True, 40, \"male\")"
      ]
    },
    {
      "cell_type": "markdown",
      "id": "ea79cb2a",
      "metadata": {
        "id": "ea79cb2a"
      },
      "source": [
        "# type()\n",
        "From Python's perspective, tuples are defined as objects with the data type 'tuple':\n",
        "\n",
        "<class 'tuple'>"
      ]
    },
    {
      "cell_type": "code",
      "execution_count": null,
      "id": "111b5706",
      "metadata": {
        "id": "111b5706",
        "outputId": "05528f63-fa5d-48d2-c0f7-f9eee1fc5371"
      },
      "outputs": [
        {
          "name": "stdout",
          "output_type": "stream",
          "text": [
            "<class 'tuple'>\n"
          ]
        }
      ],
      "source": [
        "#Example\n",
        "#What is the data type of a tuple?\n",
        "\n",
        "mytuple = (\"apple\", \"banana\", \"cherry\")\n",
        "print(type(mytuple))"
      ]
    },
    {
      "cell_type": "markdown",
      "id": "6b86a6c1",
      "metadata": {
        "id": "6b86a6c1"
      },
      "source": [
        "# The tuple() Constructor\n",
        "It is also possible to use the $tuple()$ constructor to make a tuple"
      ]
    },
    {
      "cell_type": "code",
      "execution_count": null,
      "id": "ac6eda70",
      "metadata": {
        "id": "ac6eda70",
        "outputId": "43e86844-f4e1-45a7-f7af-30f8a2815190"
      },
      "outputs": [
        {
          "name": "stdout",
          "output_type": "stream",
          "text": [
            "('apple', 'banana', 'cherry')\n"
          ]
        }
      ],
      "source": [
        "#Example\n",
        "#Using the tuple() method to make a tuple:\n",
        "\n",
        "thistuple = tuple((\"apple\", \"banana\", \"cherry\")) # note the double round-brackets\n",
        "print(thistuple)"
      ]
    },
    {
      "cell_type": "markdown",
      "id": "91f5a007",
      "metadata": {
        "id": "91f5a007"
      },
      "source": [
        "# Access Tuple Items\n",
        "You can access tuple items by referring to the index number, inside $square$ $brackets$:"
      ]
    },
    {
      "cell_type": "code",
      "execution_count": null,
      "id": "80f539c2",
      "metadata": {
        "id": "80f539c2",
        "outputId": "46b3bbea-41d6-4897-a986-d44ab291e9eb"
      },
      "outputs": [
        {
          "name": "stdout",
          "output_type": "stream",
          "text": [
            "banana\n"
          ]
        }
      ],
      "source": [
        "#Example\n",
        "#Print the second item in the tuple:\n",
        "\n",
        "thistuple = (\"apple\", \"banana\", \"cherry\")\n",
        "print(thistuple[1])"
      ]
    },
    {
      "cell_type": "markdown",
      "id": "dea62574",
      "metadata": {
        "id": "dea62574"
      },
      "source": [
        "# Negative Indexing\n",
        "Negative indexing means start from the end.\n",
        "\n",
        "-1 refers to the last item, -2 refers to the second last item etc."
      ]
    },
    {
      "cell_type": "code",
      "execution_count": null,
      "id": "8a37201f",
      "metadata": {
        "id": "8a37201f",
        "outputId": "223ab67d-3b15-4a26-d49c-97ca31066980"
      },
      "outputs": [
        {
          "name": "stdout",
          "output_type": "stream",
          "text": [
            "cherry\n"
          ]
        }
      ],
      "source": [
        "#Example\n",
        "#Print the last item of the tuple:\n",
        "\n",
        "thistuple = (\"apple\", \"banana\", \"cherry\")\n",
        "print(thistuple[-1])"
      ]
    },
    {
      "cell_type": "markdown",
      "id": "95201bfd",
      "metadata": {
        "id": "95201bfd"
      },
      "source": [
        "Tuples are unchangeable, meaning that you cannot change, add, or remove items once the tuple is created.\n",
        "\n",
        "But there are some workarounds.\n",
        "\n",
        "# Change Tuple Values\n",
        "Once a tuple is created, you cannot change its values. Tuples are unchangeable, or immutable as it also is called.\n",
        "\n",
        "But there is a workaround. You can convert the tuple into a list, change the list, and convert the list back into a tuple."
      ]
    },
    {
      "cell_type": "code",
      "execution_count": null,
      "id": "37a83186",
      "metadata": {
        "id": "37a83186",
        "outputId": "6c9fc0a3-c9f3-46b4-fb6e-023590902452"
      },
      "outputs": [
        {
          "name": "stdout",
          "output_type": "stream",
          "text": [
            "('apple', 'kiwi', 'cherry')\n"
          ]
        }
      ],
      "source": [
        "#Example\n",
        "#Convert the tuple into a list to be able to change it:\n",
        "\n",
        "x = (\"apple\", \"banana\", \"cherry\")\n",
        "y = list(x)\n",
        "y[1] = \"kiwi\"\n",
        "x = tuple(y)\n",
        "\n",
        "print(x)"
      ]
    },
    {
      "cell_type": "markdown",
      "id": "317bed05",
      "metadata": {
        "id": "317bed05"
      },
      "source": [
        "# Add Items\n",
        "Since tuples are immutable, they do not have a build-in append() method, but there are other ways to add items to a tuple.\n",
        "\n",
        "1. Convert into a list: Just like the workaround for changing a tuple, you can convert it into a list, add your item(s), and convert it back into a tuple."
      ]
    },
    {
      "cell_type": "code",
      "execution_count": null,
      "id": "6a90eabe",
      "metadata": {
        "id": "6a90eabe"
      },
      "outputs": [],
      "source": [
        "#Example\n",
        "#Convert the tuple into a list, add \"orange\", and convert it back into a tuple:\n",
        "\n",
        "thistuple = (\"apple\", \"banana\", \"cherry\")\n",
        "y = list(thistuple)\n",
        "y.append(\"orange\")\n",
        "thistuple = tuple(y)"
      ]
    },
    {
      "cell_type": "markdown",
      "id": "67b781fb",
      "metadata": {
        "id": "67b781fb"
      },
      "source": [
        "2. Add tuple to a tuple. You are allowed to add tuples to tuples, so if you want to add one item, (or many), create a new tuple with the item(s), and add it to the existing tuple:"
      ]
    },
    {
      "cell_type": "code",
      "execution_count": null,
      "id": "afd5ea58",
      "metadata": {
        "id": "afd5ea58",
        "outputId": "98dd1f6b-04b5-4919-af9c-3352609d6dc5"
      },
      "outputs": [
        {
          "name": "stdout",
          "output_type": "stream",
          "text": [
            "('apple', 'banana', 'cherry', 'orange')\n"
          ]
        }
      ],
      "source": [
        "#Example\n",
        "#Create a new tuple with the value \"orange\", and add that tuple:\n",
        "\n",
        "thistuple = (\"apple\", \"banana\", \"cherry\")\n",
        "y = (\"orange\",)\n",
        "thistuple += y\n",
        "\n",
        "print(thistuple)"
      ]
    },
    {
      "cell_type": "markdown",
      "id": "ad02aeae",
      "metadata": {
        "id": "ad02aeae"
      },
      "source": [
        "# Remove Items\n",
        "Note: You cannot remove items in a tuple.\n",
        "\n",
        "Tuples are unchangeable, so you cannot remove items from it, but you can use the same workaround as we used for changing and adding tuple items:"
      ]
    },
    {
      "cell_type": "code",
      "execution_count": null,
      "id": "9619b65a",
      "metadata": {
        "id": "9619b65a"
      },
      "outputs": [],
      "source": [
        "#Example\n",
        "#Convert the tuple into a list, remove \"apple\", and convert it back into a tuple:\n",
        "\n",
        "thistuple = (\"apple\", \"banana\", \"cherry\")\n",
        "y = list(thistuple)\n",
        "y.remove(\"apple\")\n",
        "thistuple = tuple(y)"
      ]
    },
    {
      "cell_type": "markdown",
      "id": "523685b4",
      "metadata": {
        "id": "523685b4"
      },
      "source": [
        "Or you can delete the tuple completely:"
      ]
    },
    {
      "cell_type": "code",
      "execution_count": null,
      "id": "d4c91f52",
      "metadata": {
        "id": "d4c91f52"
      },
      "outputs": [],
      "source": [
        "#Example\n",
        "#the del keyword can delete the tuple completely:\n",
        "\n",
        "thistuple = (\"apple\", \"banana\", \"cherry\")\n",
        "del thistuple\n",
        "print(thistuple) #this will raise an error because the tuple no longer exists"
      ]
    },
    {
      "cell_type": "markdown",
      "id": "4a040b54",
      "metadata": {
        "id": "4a040b54"
      },
      "source": [
        "# Unpacking a Tuple\n",
        "When we create a tuple, we normally assign values to it. This is called \"packing\" a tuple:"
      ]
    },
    {
      "cell_type": "code",
      "execution_count": null,
      "id": "d7d4214b",
      "metadata": {
        "id": "d7d4214b"
      },
      "outputs": [],
      "source": [
        "#Example\n",
        "#Packing a tuple:\n",
        "\n",
        "fruits = (\"apple\", \"banana\", \"cherry\")"
      ]
    },
    {
      "cell_type": "markdown",
      "id": "ea83c7bd",
      "metadata": {
        "id": "ea83c7bd"
      },
      "source": [
        "But, in Python, we are also allowed to extract the values back into variables. This is called \"unpacking\":"
      ]
    },
    {
      "cell_type": "code",
      "execution_count": null,
      "id": "3092e390",
      "metadata": {
        "id": "3092e390",
        "outputId": "8365719d-fb28-42d9-f688-40891d2a8d61"
      },
      "outputs": [
        {
          "name": "stdout",
          "output_type": "stream",
          "text": [
            "apple\n",
            "banana\n",
            "cherry\n"
          ]
        }
      ],
      "source": [
        "#Example\n",
        "#Unpacking a tuple:\n",
        "\n",
        "fruits = (\"apple\", \"banana\", \"cherry\")\n",
        "\n",
        "(green, yellow, red) = fruits\n",
        "\n",
        "print(green)\n",
        "print(yellow)\n",
        "print(red)"
      ]
    },
    {
      "cell_type": "markdown",
      "id": "0d741ea1",
      "metadata": {
        "id": "0d741ea1"
      },
      "source": [
        "# Using Asterisk*\n",
        "If the number of variables is less than the number of values, you can add an $*$ to the variable name and the values will be assigned to the variable as a list:"
      ]
    },
    {
      "cell_type": "code",
      "execution_count": null,
      "id": "e3f23b45",
      "metadata": {
        "id": "e3f23b45",
        "outputId": "466b7d9a-0e29-4fe1-fab1-e0e7ce9b20e6"
      },
      "outputs": [
        {
          "name": "stdout",
          "output_type": "stream",
          "text": [
            "apple\n",
            "banana\n",
            "['cherry', 'strawberry', 'raspberry']\n"
          ]
        }
      ],
      "source": [
        "#Example\n",
        "#Assign the rest of the values as a list called \"red\":\n",
        "\n",
        "fruits = (\"apple\", \"banana\", \"cherry\", \"strawberry\", \"raspberry\")\n",
        "\n",
        "(green, yellow, *red) = fruits\n",
        "\n",
        "print(green)\n",
        "print(yellow)\n",
        "print(red)"
      ]
    },
    {
      "cell_type": "markdown",
      "id": "73845684",
      "metadata": {
        "id": "73845684"
      },
      "source": [
        "If the asterisk is added to another variable name than the last, Python will assign values to the variable until the number of values left matches the number of variables left."
      ]
    },
    {
      "cell_type": "code",
      "execution_count": null,
      "id": "77df7d3b",
      "metadata": {
        "id": "77df7d3b",
        "outputId": "f8b0f2ad-35de-4771-e30f-6fb327b5594a"
      },
      "outputs": [
        {
          "name": "stdout",
          "output_type": "stream",
          "text": [
            "apple\n",
            "['mango', 'papaya', 'pineapple']\n",
            "cherry\n"
          ]
        }
      ],
      "source": [
        "#Example\n",
        "#Add a list of values the \"tropic\" variable:\n",
        "\n",
        "fruits = (\"apple\", \"mango\", \"papaya\", \"pineapple\", \"cherry\")\n",
        "\n",
        "(green, *tropic, red) = fruits\n",
        "\n",
        "print(green)\n",
        "print(tropic)\n",
        "print(red)"
      ]
    },
    {
      "cell_type": "markdown",
      "id": "05b6ffe8",
      "metadata": {
        "id": "05b6ffe8"
      },
      "source": [
        "# Join Two Tuples\n",
        "To join two or more tuples you can use the $+$ operator:"
      ]
    },
    {
      "cell_type": "code",
      "execution_count": null,
      "id": "5436d909",
      "metadata": {
        "id": "5436d909",
        "outputId": "987dd0ef-385e-4650-9302-9cef30edd53e"
      },
      "outputs": [
        {
          "name": "stdout",
          "output_type": "stream",
          "text": [
            "('a', 'b', 'c', 1, 2, 3)\n"
          ]
        }
      ],
      "source": [
        "#Example\n",
        "#Join two tuples:\n",
        "\n",
        "tuple1 = (\"a\", \"b\" , \"c\")\n",
        "tuple2 = (1, 2, 3)\n",
        "\n",
        "tuple3 = tuple1 + tuple2\n",
        "print(tuple3)"
      ]
    },
    {
      "cell_type": "markdown",
      "id": "5613b212",
      "metadata": {
        "id": "5613b212"
      },
      "source": [
        "# Multiply Tuples\n",
        "If you want to multiply the content of a tuple a given number of times, you can use the $*$ operator:"
      ]
    },
    {
      "cell_type": "code",
      "execution_count": null,
      "id": "c33da949",
      "metadata": {
        "id": "c33da949",
        "outputId": "a68afa61-d1e7-42c2-a5ea-62c0729c1894"
      },
      "outputs": [
        {
          "name": "stdout",
          "output_type": "stream",
          "text": [
            "('apple', 'banana', 'cherry', 'apple', 'banana', 'cherry')\n"
          ]
        }
      ],
      "source": [
        "#Example\n",
        "#Multiply the fruits tuple by 2:\n",
        "\n",
        "fruits = (\"apple\", \"banana\", \"cherry\")\n",
        "mytuple = fruits * 2\n",
        "\n",
        "print(mytuple)"
      ]
    },
    {
      "cell_type": "markdown",
      "id": "9f35cd0e",
      "metadata": {
        "id": "9f35cd0e"
      },
      "source": [
        "# Set\n",
        "Sets are used to store multiple items in a single variable.\n",
        "\n",
        "Set is one of 4 built-in data types in Python used to store collections of data, the other 3 are List, Tuple, and Dictionary, all with different qualities and usage.\n",
        "\n",
        "A set is a collection which is unordered, unchangeable*, and unindexed.\n",
        "\n",
        "* Note: Set items are unchangeable, but you can remove items and add new items.\n",
        "\n",
        "Sets are written with curly brackets."
      ]
    },
    {
      "cell_type": "code",
      "execution_count": null,
      "id": "78cafd93",
      "metadata": {
        "id": "78cafd93",
        "outputId": "60d48734-931c-4bff-b072-6c4dbb1e0ff7"
      },
      "outputs": [
        {
          "name": "stdout",
          "output_type": "stream",
          "text": [
            "{'cherry', 'apple', 'banana'}\n"
          ]
        }
      ],
      "source": [
        "#Example\n",
        "#Create a Set:\n",
        "\n",
        "thisset = {\"apple\", \"banana\", \"cherry\"}\n",
        "print(thisset)"
      ]
    },
    {
      "cell_type": "markdown",
      "id": "ef8090e1",
      "metadata": {
        "id": "ef8090e1"
      },
      "source": [
        "# Set Items\n",
        "Set items are unordered, unchangeable, and do not allow duplicate values.\n",
        "\n",
        "## Unordered\n",
        "Unordered means that the items in a set do not have a defined order.\n",
        "\n",
        "Set items can appear in a different order every time you use them, and cannot be referred to by index or key.\n",
        "\n",
        "## Unchangeable\n",
        "Set items are unchangeable, meaning that we cannot change the items after the set has been created.\n",
        "\n",
        "Once a set is created, you cannot change its items, but you can remove items and add new items.\n",
        "\n",
        "## Duplicates Not Allowed\n",
        "Sets cannot have two items with the same value."
      ]
    },
    {
      "cell_type": "code",
      "execution_count": null,
      "id": "602942dc",
      "metadata": {
        "id": "602942dc",
        "outputId": "ba127063-0c35-4b78-be86-69b4cb2dc504"
      },
      "outputs": [
        {
          "name": "stdout",
          "output_type": "stream",
          "text": [
            "{'cherry', 'apple', 'banana'}\n"
          ]
        }
      ],
      "source": [
        "#Example\n",
        "#Duplicate values will be ignored:\n",
        "\n",
        "thisset = {\"apple\", \"banana\", \"cherry\", \"apple\"}\n",
        "\n",
        "print(thisset)"
      ]
    },
    {
      "cell_type": "markdown",
      "id": "f2849ee7",
      "metadata": {
        "id": "f2849ee7"
      },
      "source": [
        "# type()\n",
        "From Python's perspective, sets are defined as objects with the data type 'set':\n",
        "\n",
        "<class 'set'>"
      ]
    },
    {
      "cell_type": "code",
      "execution_count": null,
      "id": "fb37d0ef",
      "metadata": {
        "id": "fb37d0ef",
        "outputId": "64d9c5c4-1f8a-4278-9466-b39c1a6a773c"
      },
      "outputs": [
        {
          "name": "stdout",
          "output_type": "stream",
          "text": [
            "<class 'set'>\n"
          ]
        }
      ],
      "source": [
        "#Example\n",
        "#What is the data type of a set?\n",
        "\n",
        "myset = {\"apple\", \"banana\", \"cherry\"}\n",
        "print(type(myset))"
      ]
    },
    {
      "cell_type": "markdown",
      "id": "3c81948c",
      "metadata": {
        "id": "3c81948c"
      },
      "source": [
        "# The set() Constructor\n",
        "It is also possible to use the $set()$ constructor to make a set."
      ]
    },
    {
      "cell_type": "code",
      "execution_count": null,
      "id": "80cb4755",
      "metadata": {
        "id": "80cb4755",
        "outputId": "8f27f6cd-acc4-4f1a-a192-d56002d2f688"
      },
      "outputs": [
        {
          "name": "stdout",
          "output_type": "stream",
          "text": [
            "{'cherry', 'apple', 'banana'}\n"
          ]
        }
      ],
      "source": [
        "#Example\n",
        "#Using the set() constructor to make a set:\n",
        "\n",
        "thisset = set((\"apple\", \"banana\", \"cherry\")) # note the double round-brackets\n",
        "print(thisset)"
      ]
    },
    {
      "cell_type": "markdown",
      "id": "138cfdd5",
      "metadata": {
        "id": "138cfdd5"
      },
      "source": [
        "# Change Items\n",
        "Once a set is created, you cannot change its items, but you can add new items.\n",
        "\n",
        "# Add Items\n",
        "Once a set is created, you cannot change its items, but you can add new items.\n",
        "\n",
        "To add one item to a set use the $add()$ method."
      ]
    },
    {
      "cell_type": "code",
      "execution_count": null,
      "id": "6023adb3",
      "metadata": {
        "id": "6023adb3",
        "outputId": "5a5c2d24-c4a2-45dd-dd67-dd27a954e7ca"
      },
      "outputs": [
        {
          "name": "stdout",
          "output_type": "stream",
          "text": [
            "{'cherry', 'apple', 'orange', 'banana'}\n"
          ]
        }
      ],
      "source": [
        "#Example\n",
        "#Add an item to a set, using the add() method:\n",
        "\n",
        "thisset = {\"apple\", \"banana\", \"cherry\"}\n",
        "\n",
        "thisset.add(\"orange\")\n",
        "\n",
        "print(thisset)"
      ]
    },
    {
      "cell_type": "markdown",
      "id": "bdddf71d",
      "metadata": {
        "id": "bdddf71d"
      },
      "source": [
        "# Add Sets\n",
        "To add items from another set into the current set, use the $update()$ method."
      ]
    },
    {
      "cell_type": "code",
      "execution_count": null,
      "id": "56c4e4ce",
      "metadata": {
        "id": "56c4e4ce",
        "outputId": "8151e97f-b9f7-4920-f6bf-623419493e46"
      },
      "outputs": [
        {
          "name": "stdout",
          "output_type": "stream",
          "text": [
            "{'pineapple', 'banana', 'papaya', 'cherry', 'apple', 'mango'}\n"
          ]
        }
      ],
      "source": [
        "#Example\n",
        "#Add elements from tropical into thisset:\n",
        "\n",
        "thisset = {\"apple\", \"banana\", \"cherry\"}\n",
        "tropical = {\"pineapple\", \"mango\", \"papaya\"}\n",
        "\n",
        "thisset.update(tropical)\n",
        "\n",
        "print(thisset)"
      ]
    },
    {
      "cell_type": "markdown",
      "id": "5d5a7589",
      "metadata": {
        "id": "5d5a7589"
      },
      "source": [
        "# Add Any Iterable\n",
        "The object in the $update()$ method does not have to be a set, it can be any iterable object (tuples, lists, dictionaries etc.)."
      ]
    },
    {
      "cell_type": "code",
      "execution_count": null,
      "id": "8204d092",
      "metadata": {
        "id": "8204d092",
        "outputId": "4a03305d-28fd-4695-bd19-e2f534b7b109"
      },
      "outputs": [
        {
          "name": "stdout",
          "output_type": "stream",
          "text": [
            "{'banana', 'cherry', 'apple', 'kiwi', 'orange'}\n"
          ]
        }
      ],
      "source": [
        "#Example\n",
        "#Add elements of a list to at set:\n",
        "\n",
        "thisset = {\"apple\", \"banana\", \"cherry\"}\n",
        "mylist = [\"kiwi\", \"orange\"]\n",
        "\n",
        "thisset.update(mylist)\n",
        "\n",
        "print(thisset)"
      ]
    },
    {
      "cell_type": "markdown",
      "id": "b8eefdd7",
      "metadata": {
        "id": "b8eefdd7"
      },
      "source": [
        "# Remove Item\n",
        "To remove an item in a set, use the $remove()$, or the $discard()$ method."
      ]
    },
    {
      "cell_type": "code",
      "execution_count": null,
      "id": "4effe2be",
      "metadata": {
        "id": "4effe2be",
        "outputId": "ad23fdab-48e0-46d1-c63b-81f3a1d2a3ab"
      },
      "outputs": [
        {
          "name": "stdout",
          "output_type": "stream",
          "text": [
            "{'cherry', 'apple'}\n"
          ]
        }
      ],
      "source": [
        "#Example\n",
        "#Remove \"banana\" by using the remove() method:\n",
        "\n",
        "thisset = {\"apple\", \"banana\", \"cherry\"}\n",
        "\n",
        "thisset.remove(\"banana\")\n",
        "\n",
        "print(thisset)"
      ]
    },
    {
      "cell_type": "markdown",
      "id": "3eb3b7a2",
      "metadata": {
        "id": "3eb3b7a2"
      },
      "source": [
        "Note: If the item to remove does not exist, $remove()$ will raise an error."
      ]
    },
    {
      "cell_type": "code",
      "execution_count": null,
      "id": "64bcdd12",
      "metadata": {
        "id": "64bcdd12",
        "outputId": "3f4568fa-5f45-407a-b2ae-bf092d6c1a0a"
      },
      "outputs": [
        {
          "name": "stdout",
          "output_type": "stream",
          "text": [
            "{'cherry', 'apple'}\n"
          ]
        }
      ],
      "source": [
        "#Example\n",
        "#Remove \"banana\" by using the discard() method:\n",
        "\n",
        "thisset = {\"apple\", \"banana\", \"cherry\"}\n",
        "\n",
        "thisset.discard(\"banana\")\n",
        "\n",
        "print(thisset)"
      ]
    },
    {
      "cell_type": "markdown",
      "id": "99663351",
      "metadata": {
        "id": "99663351"
      },
      "source": [
        "* Note: If the item to remove does not exist, discard() will NOT raise an error.\n",
        "\n",
        "    \n",
        "You can also use the $pop()$ method to remove an item, but this method will remove the last item. Remember that sets are unordered, so you will not know what item that gets removed.\n",
        "\n",
        "The return value of the $pop()$ method is the removed item."
      ]
    },
    {
      "cell_type": "code",
      "execution_count": null,
      "id": "1596584c",
      "metadata": {
        "id": "1596584c",
        "outputId": "d3eccb2b-33b3-4d42-e61e-394d625cf728"
      },
      "outputs": [
        {
          "name": "stdout",
          "output_type": "stream",
          "text": [
            "cherry\n",
            "{'apple', 'banana'}\n"
          ]
        }
      ],
      "source": [
        "#Example\n",
        "#Remove the last item by using the pop() method:\n",
        "\n",
        "thisset = {\"apple\", \"banana\", \"cherry\"}\n",
        "\n",
        "x = thisset.pop()\n",
        "\n",
        "print(x)\n",
        "\n",
        "print(thisset)"
      ]
    },
    {
      "cell_type": "markdown",
      "id": "d20e9e2a",
      "metadata": {
        "id": "d20e9e2a"
      },
      "source": [
        "* Note: Sets are unordered, so when using the pop() method, you do not know which item that gets removed."
      ]
    },
    {
      "cell_type": "code",
      "execution_count": null,
      "id": "a3bfb54a",
      "metadata": {
        "id": "a3bfb54a",
        "outputId": "dba011cf-f98c-43ff-c425-da2ac9c79f57"
      },
      "outputs": [
        {
          "name": "stdout",
          "output_type": "stream",
          "text": [
            "set()\n"
          ]
        }
      ],
      "source": [
        "#Example\n",
        "#The clear() method empties the set:\n",
        "\n",
        "thisset = {\"apple\", \"banana\", \"cherry\"}\n",
        "\n",
        "thisset.clear()\n",
        "\n",
        "print(thisset)"
      ]
    },
    {
      "cell_type": "code",
      "execution_count": null,
      "id": "4106b9bf",
      "metadata": {
        "id": "4106b9bf"
      },
      "outputs": [],
      "source": [
        "#Example\n",
        "#The del keyword will delete the set completely:\n",
        "\n",
        "thisset = {\"apple\", \"banana\", \"cherry\"}\n",
        "\n",
        "del thisset\n",
        "\n",
        "print(thisset)"
      ]
    },
    {
      "cell_type": "markdown",
      "id": "620f9c33",
      "metadata": {
        "id": "620f9c33"
      },
      "source": [
        "# Join Two Sets\n",
        "There are several ways to join two or more sets in Python.\n",
        "\n",
        "You can use the $union()$ method that returns a new set containing all items from both sets, or the $update()$ method that inserts all the items from one set into another:"
      ]
    },
    {
      "cell_type": "code",
      "execution_count": null,
      "id": "e39a5ed6",
      "metadata": {
        "id": "e39a5ed6",
        "outputId": "c4a6e66b-3ef8-48b9-9230-996dd50aee21"
      },
      "outputs": [
        {
          "name": "stdout",
          "output_type": "stream",
          "text": [
            "{1, 2, 3, 'c', 'a', 'b'}\n"
          ]
        }
      ],
      "source": [
        "#Example\n",
        "#The union() method returns a new set with all items from both sets:\n",
        "\n",
        "set1 = {\"a\", \"b\" , \"c\"}\n",
        "set2 = {1, 2, 3}\n",
        "\n",
        "set3 = set1.union(set2)\n",
        "print(set3)"
      ]
    },
    {
      "cell_type": "code",
      "execution_count": null,
      "id": "cca08d54",
      "metadata": {
        "id": "cca08d54",
        "outputId": "03ce2d98-f223-47cf-aaa9-ec9d92bfe521"
      },
      "outputs": [
        {
          "name": "stdout",
          "output_type": "stream",
          "text": [
            "{1, 2, 3, 'c', 'a', 'b'}\n"
          ]
        }
      ],
      "source": [
        "#Example\n",
        "#The update() method inserts the items in set2 into set1:\n",
        "\n",
        "set1 = {\"a\", \"b\" , \"c\"}\n",
        "set2 = {1, 2, 3}\n",
        "\n",
        "set1.update(set2)\n",
        "print(set1)"
      ]
    },
    {
      "cell_type": "markdown",
      "id": "474f2a6f",
      "metadata": {
        "id": "474f2a6f"
      },
      "source": [
        "* Note: Both union() and update() will exclude any duplicate items."
      ]
    },
    {
      "cell_type": "markdown",
      "id": "5d21386f",
      "metadata": {
        "id": "5d21386f"
      },
      "source": [
        "# Dictionary\n",
        "Dictionaries are used to store data values in key:value pairs.\n",
        "\n",
        "A dictionary is a collection which is ordered*, changeable and do not allow duplicates.\n",
        "\n",
        "* As of Python version 3.7, dictionaries are ordered. In Python 3.6 and earlier, dictionaries are unordered.\n",
        "\n",
        "Dictionaries are written with curly brackets, and have keys and values:"
      ]
    },
    {
      "cell_type": "code",
      "execution_count": null,
      "id": "53c46f08",
      "metadata": {
        "id": "53c46f08",
        "outputId": "21cd1c1d-7823-4a8b-a5b6-11ce97daff01"
      },
      "outputs": [
        {
          "name": "stdout",
          "output_type": "stream",
          "text": [
            "{'brand': 'Ford', 'model': 'Mustang', 'year': 1964}\n"
          ]
        }
      ],
      "source": [
        "#Example\n",
        "#Create and print a dictionary:\n",
        "\n",
        "thisdict = {\n",
        "  \"brand\": \"Ford\",\n",
        "  \"model\": \"Mustang\",\n",
        "  \"year\": 1964\n",
        "}\n",
        "print(thisdict)"
      ]
    },
    {
      "cell_type": "markdown",
      "id": "6a5026b7",
      "metadata": {
        "id": "6a5026b7"
      },
      "source": [
        "#Dictionary Items\n",
        "Dictionary items are ordered, changeable, and does not allow duplicates.\n",
        "\n",
        "Dictionary items are presented in key:value pairs, and can be referred to by using the key name."
      ]
    },
    {
      "cell_type": "code",
      "execution_count": null,
      "id": "5537542c",
      "metadata": {
        "id": "5537542c",
        "outputId": "894f3779-9083-4d6a-f8bc-5a1023a00aab"
      },
      "outputs": [
        {
          "name": "stdout",
          "output_type": "stream",
          "text": [
            "Ford\n"
          ]
        }
      ],
      "source": [
        "#Example\n",
        "#Print the \"brand\" value of the dictionary:\n",
        "\n",
        "thisdict = {\n",
        "  \"brand\": \"Ford\",\n",
        "  \"model\": \"Mustang\",\n",
        "  \"year\": 1964\n",
        "}\n",
        "print(thisdict[\"brand\"])"
      ]
    },
    {
      "cell_type": "markdown",
      "id": "824901b9",
      "metadata": {
        "id": "824901b9"
      },
      "source": [
        "## Ordered or Unordered?\n",
        "* As of Python version 3.7, dictionaries are ordered. In Python 3.6 and earlier, dictionaries are unordered.\n",
        "\n",
        "When we say that dictionaries are ordered, it means that the items have a defined order, and that order will not change.\n",
        "\n",
        "Unordered means that the items does not have a defined order, you cannot refer to an item by using an index.\n",
        "\n",
        "## Changeable\n",
        "Dictionaries are changeable, meaning that we can change, add or remove items after the dictionary has been created.\n",
        "\n",
        "## Duplicates Not Allowed\n",
        "Dictionaries cannot have two items with the same key:"
      ]
    },
    {
      "cell_type": "code",
      "execution_count": null,
      "id": "67216f45",
      "metadata": {
        "id": "67216f45",
        "outputId": "81cdc719-98c2-4f76-a5da-d7bdf0aa39eb"
      },
      "outputs": [
        {
          "name": "stdout",
          "output_type": "stream",
          "text": [
            "{'brand': 'Ford', 'model': 'Mustang', 'year': 2020}\n"
          ]
        }
      ],
      "source": [
        "#Example\n",
        "#Duplicate values will overwrite existing values:\n",
        "\n",
        "thisdict = {\n",
        "  \"brand\": \"Ford\",\n",
        "  \"model\": \"Mustang\",\n",
        "  \"year\": 1964,\n",
        "  \"year\": 2020\n",
        "}\n",
        "print(thisdict)"
      ]
    },
    {
      "cell_type": "markdown",
      "id": "e5e9d5e3",
      "metadata": {
        "id": "e5e9d5e3"
      },
      "source": [
        "# Dictionary Length\n",
        "To determine how many items a dictionary has, use the $len()$ function:"
      ]
    },
    {
      "cell_type": "code",
      "execution_count": null,
      "id": "28ff5551",
      "metadata": {
        "id": "28ff5551",
        "outputId": "74b90e94-36d4-4a74-9b39-fe5fbdf695cc"
      },
      "outputs": [
        {
          "name": "stdout",
          "output_type": "stream",
          "text": [
            "3\n"
          ]
        }
      ],
      "source": [
        "#Example\n",
        "#Print the number of items in the dictionary:\n",
        "\n",
        "print(len(thisdict))"
      ]
    },
    {
      "cell_type": "markdown",
      "id": "34935fdc",
      "metadata": {
        "id": "34935fdc"
      },
      "source": [
        "# Dictionary Items - Data Types\n",
        "The values in dictionary items can be of any data type:"
      ]
    },
    {
      "cell_type": "code",
      "execution_count": null,
      "id": "1191b738",
      "metadata": {
        "id": "1191b738"
      },
      "outputs": [],
      "source": [
        "#Example\n",
        "#String, int, boolean, and list data types:\n",
        "\n",
        "thisdict = {\n",
        "  \"brand\": \"Ford\",\n",
        "  \"electric\": False,\n",
        "  \"year\": 1964,\n",
        "  \"colors\": [\"red\", \"white\", \"blue\"]\n",
        "}"
      ]
    },
    {
      "cell_type": "markdown",
      "id": "272b2e16",
      "metadata": {
        "id": "272b2e16"
      },
      "source": [
        "# type()\n",
        "From Python's perspective, dictionaries are defined as objects with the data type 'dict':\n",
        "\n",
        "<class 'dict'>"
      ]
    },
    {
      "cell_type": "code",
      "execution_count": null,
      "id": "6412b969",
      "metadata": {
        "id": "6412b969",
        "outputId": "d01a044e-f23a-4809-8957-52679f63e06d"
      },
      "outputs": [
        {
          "name": "stdout",
          "output_type": "stream",
          "text": [
            "<class 'dict'>\n"
          ]
        }
      ],
      "source": [
        "#Example\n",
        "#Print the data type of a dictionary:\n",
        "\n",
        "thisdict = {\n",
        "  \"brand\": \"Ford\",\n",
        "  \"model\": \"Mustang\",\n",
        "  \"year\": 1964\n",
        "}\n",
        "print(type(thisdict))"
      ]
    },
    {
      "cell_type": "markdown",
      "id": "6274aa01",
      "metadata": {
        "id": "6274aa01"
      },
      "source": [
        "# Accessing Items\n",
        "You can access the items of a dictionary by referring to its key name, inside square brackets:"
      ]
    },
    {
      "cell_type": "code",
      "execution_count": null,
      "id": "32c6725d",
      "metadata": {
        "id": "32c6725d",
        "outputId": "9709439c-3a51-4161-fc48-c0b4aa50cc08"
      },
      "outputs": [
        {
          "name": "stdout",
          "output_type": "stream",
          "text": [
            "Mustang\n"
          ]
        }
      ],
      "source": [
        "#Example\n",
        "#Get the value of the \"model\" key:\n",
        "\n",
        "thisdict = {\n",
        "  \"brand\": \"Ford\",\n",
        "  \"model\": \"Mustang\",\n",
        "  \"year\": 1964\n",
        "}\n",
        "x = thisdict[\"model\"]\n",
        "\n",
        "print(x)"
      ]
    },
    {
      "cell_type": "markdown",
      "id": "9aa7b89b",
      "metadata": {
        "id": "9aa7b89b"
      },
      "source": [
        "There is also a method called get() that will give you the same result:"
      ]
    },
    {
      "cell_type": "code",
      "execution_count": null,
      "id": "666099db",
      "metadata": {
        "id": "666099db",
        "outputId": "1abde883-ee69-499c-8aff-678fcdc80055"
      },
      "outputs": [
        {
          "name": "stdout",
          "output_type": "stream",
          "text": [
            "Mustang\n"
          ]
        }
      ],
      "source": [
        "#Example\n",
        "#Get the value of the \"model\" key:\n",
        "\n",
        "x = thisdict.get(\"model\")\n",
        "\n",
        "print(x)"
      ]
    },
    {
      "cell_type": "markdown",
      "id": "c53ce078",
      "metadata": {
        "id": "c53ce078"
      },
      "source": [
        "# Get Keys\n",
        "The $keys()$ method will return a list of all the keys in the dictionary."
      ]
    },
    {
      "cell_type": "code",
      "execution_count": null,
      "id": "a3e3ddfc",
      "metadata": {
        "id": "a3e3ddfc",
        "outputId": "3611e106-34cf-47e7-ffe7-fcb78192b59a"
      },
      "outputs": [
        {
          "name": "stdout",
          "output_type": "stream",
          "text": [
            "dict_keys(['brand', 'model', 'year'])\n"
          ]
        }
      ],
      "source": [
        "#Example\n",
        "#Get a list of the keys:\n",
        "\n",
        "x = thisdict.keys()\n",
        "\n",
        "print(x)"
      ]
    },
    {
      "cell_type": "markdown",
      "id": "f2bad521",
      "metadata": {
        "id": "f2bad521"
      },
      "source": [
        "The list of the keys is a view of the dictionary, meaning that any changes done to the dictionary will be reflected in the keys list."
      ]
    },
    {
      "cell_type": "code",
      "execution_count": null,
      "id": "2ecab772",
      "metadata": {
        "id": "2ecab772",
        "outputId": "079e7354-03b2-48ec-9157-959123fd47c3"
      },
      "outputs": [
        {
          "name": "stdout",
          "output_type": "stream",
          "text": [
            "dict_keys(['brand', 'model', 'year'])\n",
            "dict_keys(['brand', 'model', 'year', 'color'])\n"
          ]
        }
      ],
      "source": [
        "#Example\n",
        "#Add a new item to the original dictionary, and see that the keys list gets updated as well:\n",
        "\n",
        "car = {\n",
        "\"brand\": \"Ford\",\n",
        "\"model\": \"Mustang\",\n",
        "\"year\": 1964\n",
        "}\n",
        "\n",
        "x = car.keys()\n",
        "\n",
        "print(x) #before the change\n",
        "\n",
        "car[\"color\"] = \"white\"\n",
        "\n",
        "print(x) #after the change"
      ]
    },
    {
      "cell_type": "markdown",
      "id": "02b4f007",
      "metadata": {
        "id": "02b4f007"
      },
      "source": [
        "# Get Values\n",
        "The $values()$ method will return a list of all the values in the dictionary."
      ]
    },
    {
      "cell_type": "code",
      "execution_count": null,
      "id": "1c0a9d02",
      "metadata": {
        "id": "1c0a9d02",
        "outputId": "0c4e3d79-4856-4c57-a2ee-8ef2fc86f18e"
      },
      "outputs": [
        {
          "name": "stdout",
          "output_type": "stream",
          "text": [
            "dict_values(['Ford', 'Mustang', 1964])\n"
          ]
        }
      ],
      "source": [
        "#Example\n",
        "#Get a list of the values:\n",
        "\n",
        "x = thisdict.values()\n",
        "print(x)"
      ]
    },
    {
      "cell_type": "markdown",
      "id": "e9b35a07",
      "metadata": {
        "id": "e9b35a07"
      },
      "source": [
        "The list of the values is a view of the dictionary, meaning that any changes done to the dictionary will be reflected in the values list."
      ]
    },
    {
      "cell_type": "code",
      "execution_count": null,
      "id": "d1d1b36b",
      "metadata": {
        "id": "d1d1b36b",
        "outputId": "9f503119-a69a-4616-a719-ce2d494a4d8d"
      },
      "outputs": [
        {
          "name": "stdout",
          "output_type": "stream",
          "text": [
            "dict_values(['Ford', 'Mustang', 1964])\n",
            "dict_values(['Ford', 'Mustang', 2020])\n"
          ]
        }
      ],
      "source": [
        "#Example\n",
        "#Make a change in the original dictionary, and see that the values list gets updated as well:\n",
        "\n",
        "car = {\n",
        "\"brand\": \"Ford\",\n",
        "\"model\": \"Mustang\",\n",
        "\"year\": 1964\n",
        "}\n",
        "\n",
        "x = car.values()\n",
        "\n",
        "print(x) #before the change\n",
        "\n",
        "car[\"year\"] = 2020\n",
        "\n",
        "print(x) #after the change"
      ]
    },
    {
      "cell_type": "code",
      "execution_count": null,
      "id": "215692a3",
      "metadata": {
        "id": "215692a3",
        "outputId": "03e4c23e-4364-4afa-a47a-a0b83bfd65e3"
      },
      "outputs": [
        {
          "name": "stdout",
          "output_type": "stream",
          "text": [
            "dict_values(['Ford', 'Mustang', 1964])\n",
            "dict_values(['Ford', 'Mustang', 1964, 'red'])\n"
          ]
        }
      ],
      "source": [
        "#Example\n",
        "#Add a new item to the original dictionary, and see that the values list gets updated as well:\n",
        "\n",
        "car = {\n",
        "\"brand\": \"Ford\",\n",
        "\"model\": \"Mustang\",\n",
        "\"year\": 1964\n",
        "}\n",
        "\n",
        "x = car.values()\n",
        "\n",
        "print(x) #before the change\n",
        "\n",
        "car[\"color\"] = \"red\"\n",
        "\n",
        "print(x) #after the change"
      ]
    },
    {
      "cell_type": "markdown",
      "id": "7041f5e2",
      "metadata": {
        "id": "7041f5e2"
      },
      "source": [
        "# Get Items\n",
        "The $items()$ method will return each item in a dictionary, as tuples in a list."
      ]
    },
    {
      "cell_type": "code",
      "execution_count": null,
      "id": "90679b4d",
      "metadata": {
        "id": "90679b4d"
      },
      "outputs": [],
      "source": [
        "#Example\n",
        "#Get a list of the key:value pairs\n",
        "\n",
        "x = thisdict.items()"
      ]
    },
    {
      "cell_type": "markdown",
      "id": "1f4ad901",
      "metadata": {
        "id": "1f4ad901"
      },
      "source": [
        "The returned list is a view of the items of the dictionary, meaning that any changes done to the dictionary will be reflected in the items list."
      ]
    },
    {
      "cell_type": "code",
      "execution_count": null,
      "id": "d99a6f40",
      "metadata": {
        "id": "d99a6f40",
        "outputId": "3a99d33a-a018-4505-b7d4-4864304b66fd"
      },
      "outputs": [
        {
          "name": "stdout",
          "output_type": "stream",
          "text": [
            "dict_items([('brand', 'Ford'), ('model', 'Mustang'), ('year', 1964)])\n",
            "dict_items([('brand', 'Ford'), ('model', 'Mustang'), ('year', 2020)])\n"
          ]
        }
      ],
      "source": [
        "#Example\n",
        "#Make a change in the original dictionary, and see that the items list gets updated as well:\n",
        "\n",
        "car = {\n",
        "\"brand\": \"Ford\",\n",
        "\"model\": \"Mustang\",\n",
        "\"year\": 1964\n",
        "}\n",
        "\n",
        "x = car.items()\n",
        "\n",
        "print(x) #before the change\n",
        "\n",
        "car[\"year\"] = 2020\n",
        "\n",
        "print(x) #after the change"
      ]
    },
    {
      "cell_type": "code",
      "execution_count": null,
      "id": "f5a61f71",
      "metadata": {
        "id": "f5a61f71",
        "outputId": "90178119-f508-42ab-90c4-e765a97b5724"
      },
      "outputs": [
        {
          "name": "stdout",
          "output_type": "stream",
          "text": [
            "dict_items([('brand', 'Ford'), ('model', 'Mustang'), ('year', 1964)])\n",
            "dict_items([('brand', 'Ford'), ('model', 'Mustang'), ('year', 1964), ('color', 'red')])\n"
          ]
        }
      ],
      "source": [
        "#Example\n",
        "#Add a new item to the original dictionary, and see that the items list gets updated as well:\n",
        "\n",
        "car = {\n",
        "\"brand\": \"Ford\",\n",
        "\"model\": \"Mustang\",\n",
        "\"year\": 1964\n",
        "}\n",
        "\n",
        "x = car.items()\n",
        "\n",
        "print(x) #before the change\n",
        "\n",
        "car[\"color\"] = \"red\"\n",
        "\n",
        "print(x) #after the change"
      ]
    },
    {
      "cell_type": "markdown",
      "id": "fa0b7843",
      "metadata": {
        "id": "fa0b7843"
      },
      "source": [
        "# Change Values\n",
        "You can change the value of a specific item by referring to its key name:"
      ]
    },
    {
      "cell_type": "code",
      "execution_count": null,
      "id": "330399c6",
      "metadata": {
        "id": "330399c6"
      },
      "outputs": [],
      "source": [
        "#Example\n",
        "#Change the \"year\" to 2018:\n",
        "\n",
        "thisdict = {\n",
        "  \"brand\": \"Ford\",\n",
        "  \"model\": \"Mustang\",\n",
        "  \"year\": 1964\n",
        "}\n",
        "thisdict[\"year\"] = 2018"
      ]
    },
    {
      "cell_type": "markdown",
      "id": "2189f8d0",
      "metadata": {
        "id": "2189f8d0"
      },
      "source": [
        "# Update Dictionary\n",
        "The $update()$ method will update the dictionary with the items from the given argument.\n",
        "\n",
        "The argument must be a dictionary, or an iterable object with key:value pairs."
      ]
    },
    {
      "cell_type": "code",
      "execution_count": null,
      "id": "e32ce335",
      "metadata": {
        "id": "e32ce335"
      },
      "outputs": [],
      "source": [
        "#Example\n",
        "#Update the \"year\" of the car by using the update() method:\n",
        "\n",
        "thisdict = {\n",
        "  \"brand\": \"Ford\",\n",
        "  \"model\": \"Mustang\",\n",
        "  \"year\": 1964\n",
        "}\n",
        "thisdict.update({\"year\": 2020})"
      ]
    },
    {
      "cell_type": "markdown",
      "id": "c66d7c9b",
      "metadata": {
        "id": "c66d7c9b"
      },
      "source": [
        "# Adding Items\n",
        "Adding an item to the dictionary is done by using a new index key and assigning a value to it:"
      ]
    },
    {
      "cell_type": "code",
      "execution_count": null,
      "id": "b5b9731b",
      "metadata": {
        "id": "b5b9731b",
        "outputId": "625a4f0a-7a97-4b70-f0a6-8fdbbd09bb4a"
      },
      "outputs": [
        {
          "name": "stdout",
          "output_type": "stream",
          "text": [
            "{'brand': 'Ford', 'model': 'Mustang', 'year': 1964, 'color': 'red'}\n"
          ]
        }
      ],
      "source": [
        "#Example\n",
        "thisdict = {\n",
        "  \"brand\": \"Ford\",\n",
        "  \"model\": \"Mustang\",\n",
        "  \"year\": 1964\n",
        "}\n",
        "thisdict[\"color\"] = \"red\"\n",
        "print(thisdict)"
      ]
    },
    {
      "cell_type": "markdown",
      "id": "6fe77d37",
      "metadata": {
        "id": "6fe77d37"
      },
      "source": [
        "# Update Dictionary\n",
        "The $update()$ method will update the dictionary with the items from a given argument. If the item does not exist, the item will be added.\n",
        "\n",
        "The argument must be a dictionary, or an iterable object with key:value pairs."
      ]
    },
    {
      "cell_type": "code",
      "execution_count": null,
      "id": "8dfadfcf",
      "metadata": {
        "id": "8dfadfcf"
      },
      "outputs": [],
      "source": [
        "#Example\n",
        "#Add a color item to the dictionary by using the update() method:\n",
        "\n",
        "thisdict = {\n",
        "  \"brand\": \"Ford\",\n",
        "  \"model\": \"Mustang\",\n",
        "  \"year\": 1964\n",
        "}\n",
        "thisdict.update({\"color\": \"red\"})"
      ]
    },
    {
      "cell_type": "markdown",
      "id": "ab0daba9",
      "metadata": {
        "id": "ab0daba9"
      },
      "source": [
        "# Removing Items\n",
        "There are several methods to remove items from a dictionary:"
      ]
    },
    {
      "cell_type": "code",
      "execution_count": null,
      "id": "ccb6884f",
      "metadata": {
        "id": "ccb6884f",
        "outputId": "021907f1-6d52-447c-a81e-19db1bbd64f7"
      },
      "outputs": [
        {
          "name": "stdout",
          "output_type": "stream",
          "text": [
            "{'brand': 'Ford', 'year': 1964}\n"
          ]
        }
      ],
      "source": [
        "#Example\n",
        "#The pop() method removes the item with the specified key name:\n",
        "\n",
        "thisdict = {\n",
        "  \"brand\": \"Ford\",\n",
        "  \"model\": \"Mustang\",\n",
        "  \"year\": 1964\n",
        "}\n",
        "thisdict.pop(\"model\")\n",
        "print(thisdict)"
      ]
    },
    {
      "cell_type": "code",
      "execution_count": null,
      "id": "544f4674",
      "metadata": {
        "id": "544f4674",
        "outputId": "5699ccba-cc3e-4450-9f91-88afac14cb98"
      },
      "outputs": [
        {
          "name": "stdout",
          "output_type": "stream",
          "text": [
            "{'brand': 'Ford', 'year': 1964}\n"
          ]
        }
      ],
      "source": [
        "#Example\n",
        "#The del keyword removes the item with the specified key name:\n",
        "\n",
        "thisdict = {\n",
        "  \"brand\": \"Ford\",\n",
        "  \"model\": \"Mustang\",\n",
        "  \"year\": 1964\n",
        "}\n",
        "del thisdict[\"model\"]\n",
        "print(thisdict)"
      ]
    },
    {
      "cell_type": "code",
      "execution_count": null,
      "id": "fb9270ae",
      "metadata": {
        "id": "fb9270ae"
      },
      "outputs": [],
      "source": [
        "#Example\n",
        "#The del keyword can also delete the dictionary completely:\n",
        "\n",
        "thisdict = {\n",
        "  \"brand\": \"Ford\",\n",
        "  \"model\": \"Mustang\",\n",
        "  \"year\": 1964\n",
        "}\n",
        "del thisdict\n",
        "print(thisdict) #this will cause an error because \"thisdict\" no longer exists."
      ]
    },
    {
      "cell_type": "code",
      "execution_count": null,
      "id": "8f87b01a",
      "metadata": {
        "id": "8f87b01a"
      },
      "outputs": [],
      "source": [
        "#Example\n",
        "#The clear() method empties the dictionary:\n",
        "\n",
        "thisdict = {\n",
        "  \"brand\": \"Ford\",\n",
        "  \"model\": \"Mustang\",\n",
        "  \"year\": 1964\n",
        "}\n",
        "thisdict.clear()\n",
        "print(thisdict)"
      ]
    },
    {
      "cell_type": "markdown",
      "id": "24696f48",
      "metadata": {
        "id": "24696f48"
      },
      "source": [
        "# Copy a Dictionary\n",
        "You cannot copy a dictionary simply by typing dict2 = dict1, because: dict2 will only be a reference to dict1, and changes made in dict1 will automatically also be made in dict2.\n",
        "\n",
        "There are ways to make a copy, one way is to use the built-in Dictionary method $copy()$."
      ]
    },
    {
      "cell_type": "code",
      "execution_count": null,
      "id": "a4dd9d5e",
      "metadata": {
        "id": "a4dd9d5e",
        "outputId": "85f46248-85e7-41c8-977e-e59d0461a3c1"
      },
      "outputs": [
        {
          "name": "stdout",
          "output_type": "stream",
          "text": [
            "{'brand': 'Ford', 'model': 'Mustang', 'year': 1964}\n"
          ]
        }
      ],
      "source": [
        "#Example\n",
        "#Make a copy of a dictionary with the copy() method:\n",
        "\n",
        "thisdict = {\n",
        "  \"brand\": \"Ford\",\n",
        "  \"model\": \"Mustang\",\n",
        "  \"year\": 1964\n",
        "}\n",
        "mydict = thisdict.copy()\n",
        "print(mydict)"
      ]
    },
    {
      "cell_type": "markdown",
      "id": "182d19fd",
      "metadata": {
        "id": "182d19fd"
      },
      "source": [
        "Another way to make a copy is to use the built-in function $dict()$."
      ]
    },
    {
      "cell_type": "code",
      "execution_count": null,
      "id": "4228c076",
      "metadata": {
        "id": "4228c076",
        "outputId": "1930cd1d-0d2d-4d3a-ca8a-c00c01ecece2"
      },
      "outputs": [
        {
          "name": "stdout",
          "output_type": "stream",
          "text": [
            "{'brand': 'Ford', 'model': 'Mustang', 'year': 1964}\n"
          ]
        }
      ],
      "source": [
        "#Example\n",
        "#Make a copy of a dictionary with the dict() function:\n",
        "\n",
        "thisdict = {\n",
        "  \"brand\": \"Ford\",\n",
        "  \"model\": \"Mustang\",\n",
        "  \"year\": 1964\n",
        "}\n",
        "mydict = dict(thisdict)\n",
        "print(mydict)"
      ]
    },
    {
      "cell_type": "markdown",
      "id": "67283e4c",
      "metadata": {
        "id": "67283e4c"
      },
      "source": [
        "# Nested Dictionaries\n",
        "A dictionary can contain dictionaries, this is called nested dictionaries."
      ]
    },
    {
      "cell_type": "code",
      "execution_count": null,
      "id": "95c85831",
      "metadata": {
        "id": "95c85831"
      },
      "outputs": [],
      "source": [
        "#Example\n",
        "#Create a dictionary that contain three dictionaries:\n",
        "\n",
        "myfamily = {\n",
        "  \"child1\" : {\n",
        "    \"name\" : \"Emil\",\n",
        "    \"year\" : 2004\n",
        "  },\n",
        "  \"child2\" : {\n",
        "    \"name\" : \"Tobias\",\n",
        "    \"year\" : 2007\n",
        "  },\n",
        "  \"child3\" : {\n",
        "    \"name\" : \"Linus\",\n",
        "    \"year\" : 2011\n",
        "  }\n",
        "}"
      ]
    },
    {
      "cell_type": "markdown",
      "id": "6ccdeb29",
      "metadata": {
        "id": "6ccdeb29"
      },
      "source": [
        "Or, if you want to add three dictionaries into a new dictionary:"
      ]
    },
    {
      "cell_type": "code",
      "execution_count": null,
      "id": "f0bc05fe",
      "metadata": {
        "id": "f0bc05fe"
      },
      "outputs": [],
      "source": [
        "#Example\n",
        "#Create three dictionaries, then create one dictionary that will contain the other three dictionaries:\n",
        "\n",
        "child1 = {\n",
        "  \"name\" : \"Emil\",\n",
        "  \"year\" : 2004\n",
        "}\n",
        "child2 = {\n",
        "  \"name\" : \"Tobias\",\n",
        "  \"year\" : 2007\n",
        "}\n",
        "child3 = {\n",
        "  \"name\" : \"Linus\",\n",
        "  \"year\" : 2011\n",
        "}\n",
        "\n",
        "myfamily = {\n",
        "  \"child1\" : child1,\n",
        "  \"child2\" : child2,\n",
        "  \"child3\" : child3\n",
        "}"
      ]
    },
    {
      "cell_type": "markdown",
      "id": "5cd5c034",
      "metadata": {
        "id": "5cd5c034"
      },
      "source": [
        "# If ... Else\n",
        "\n",
        "# Python Conditions and If statements\n",
        "Python supports the usual logical conditions from mathematics:\n",
        "\n",
        "- Equals: a == b\n",
        "- Not Equals: a != b\n",
        "- Less than: a < b\n",
        "- Less than or equal to: a <= b\n",
        "- Greater than: a > b\n",
        "- Greater than or equal to: a >= b\n",
        "\n",
        "These conditions can be used in several ways, most commonly in \"if statements\" and loops.\n",
        "\n",
        "An \"if statement\" is written by using the if keyword."
      ]
    },
    {
      "cell_type": "code",
      "execution_count": null,
      "id": "272156b2",
      "metadata": {
        "id": "272156b2",
        "outputId": "03f6077f-9ff0-415b-c33e-9f8e42f1c88e"
      },
      "outputs": [
        {
          "name": "stdout",
          "output_type": "stream",
          "text": [
            "b is greater than a\n"
          ]
        }
      ],
      "source": [
        "#Example\n",
        "#If statement:\n",
        "\n",
        "a = 33\n",
        "b = 200\n",
        "if b > a:\n",
        "  print(\"b is greater than a\")"
      ]
    },
    {
      "cell_type": "markdown",
      "id": "522cde05",
      "metadata": {
        "id": "522cde05"
      },
      "source": [
        " In this example we use two variables, a and b, which are used as part of the if statement to test whether b is greater than a. As a is 33, and b is 200, we know that 200 is greater than 33, and so we print to screen that \"b is greater than a\".\n",
        "\n",
        "# Indentation\n",
        "Python relies on indentation (whitespace at the beginning of a line) to define scope in the code. Other programming languages often use curly-brackets for this purpose."
      ]
    },
    {
      "cell_type": "code",
      "execution_count": null,
      "id": "f36ee316",
      "metadata": {
        "id": "f36ee316"
      },
      "outputs": [],
      "source": [
        "#Example\n",
        "#If statement, without indentation (will raise an error):\n",
        "\n",
        "a = 33\n",
        "b = 200\n",
        "if b > a:\n",
        "print(\"b is greater than a\") # you will get an error"
      ]
    },
    {
      "cell_type": "markdown",
      "id": "44c02b6c",
      "metadata": {
        "id": "44c02b6c"
      },
      "source": [
        "# Elif\n",
        "The elif keyword is pythons way of saying \"if the previous conditions were not true, then try this condition\"."
      ]
    },
    {
      "cell_type": "code",
      "execution_count": null,
      "id": "853e46c0",
      "metadata": {
        "id": "853e46c0",
        "outputId": "1cc22d47-98ad-4240-b3fa-72ff13a21cd3"
      },
      "outputs": [
        {
          "name": "stdout",
          "output_type": "stream",
          "text": [
            "a and b are equal\n"
          ]
        }
      ],
      "source": [
        "#Example\n",
        "a = 33\n",
        "b = 33\n",
        "if b > a:\n",
        "  print(\"b is greater than a\")\n",
        "elif a == b:\n",
        "  print(\"a and b are equal\")"
      ]
    },
    {
      "cell_type": "markdown",
      "id": "dd83170b",
      "metadata": {
        "id": "dd83170b"
      },
      "source": [
        "In this example a is equal to b, so the first condition is not true, but the elif condition is true, so we print to screen that \"a and b are equal\".\n",
        "\n",
        "# Else\n",
        "The else keyword catches anything which isn't caught by the preceding conditions"
      ]
    },
    {
      "cell_type": "code",
      "execution_count": null,
      "id": "de9a1f8a",
      "metadata": {
        "id": "de9a1f8a",
        "outputId": "0c4b7e59-1297-4179-cd95-ff7bccb71943"
      },
      "outputs": [
        {
          "name": "stdout",
          "output_type": "stream",
          "text": [
            "a is greater than b\n"
          ]
        }
      ],
      "source": [
        "#Example\n",
        "a = 200\n",
        "b = 33\n",
        "if b > a:\n",
        "  print(\"b is greater than a\")\n",
        "elif a == b:\n",
        "  print(\"a and b are equal\")\n",
        "else:\n",
        "  print(\"a is greater than b\")"
      ]
    },
    {
      "cell_type": "markdown",
      "id": "aa004a89",
      "metadata": {
        "id": "aa004a89"
      },
      "source": [
        "In this example a is greater than b, so the first condition is not true, also the elif condition is not true, so we go to the else condition and print to screen that \"a is greater than b\".\n",
        "\n",
        "You can also have an else without the elif:"
      ]
    },
    {
      "cell_type": "code",
      "execution_count": null,
      "id": "a197bdc2",
      "metadata": {
        "id": "a197bdc2",
        "outputId": "afcba626-f451-43c2-c3f1-f197b88306f9"
      },
      "outputs": [
        {
          "name": "stdout",
          "output_type": "stream",
          "text": [
            "b is not greater than a\n"
          ]
        }
      ],
      "source": [
        "#Example\n",
        "a = 200\n",
        "b = 33\n",
        "if b > a:\n",
        "  print(\"b is greater than a\")\n",
        "else:\n",
        "  print(\"b is not greater than a\")"
      ]
    },
    {
      "cell_type": "markdown",
      "id": "294ecdfc",
      "metadata": {
        "id": "294ecdfc"
      },
      "source": [
        "# Short Hand If\n",
        "If you have only one statement to execute, you can put it on the same line as the if statement."
      ]
    },
    {
      "cell_type": "code",
      "execution_count": null,
      "id": "87f68ac5",
      "metadata": {
        "id": "87f68ac5",
        "outputId": "50e4c4c7-de56-4c02-edf0-dab515df9023"
      },
      "outputs": [
        {
          "name": "stdout",
          "output_type": "stream",
          "text": [
            "a is greater than b\n"
          ]
        }
      ],
      "source": [
        "if a > b: print(\"a is greater than b\")"
      ]
    },
    {
      "cell_type": "markdown",
      "id": "17ed3f18",
      "metadata": {
        "id": "17ed3f18"
      },
      "source": [
        "# Short Hand If ... Else\n",
        "If you have only one statement to execute, one for if, and one for else, you can put it all on the same line:"
      ]
    },
    {
      "cell_type": "code",
      "execution_count": null,
      "id": "90aec5c9",
      "metadata": {
        "id": "90aec5c9",
        "outputId": "912c13c6-bfd2-4eaa-e5a8-2514f409f5ad"
      },
      "outputs": [
        {
          "name": "stdout",
          "output_type": "stream",
          "text": [
            "B\n"
          ]
        }
      ],
      "source": [
        "#Example\n",
        "#One line if else statement:\n",
        "\n",
        "a = 2\n",
        "b = 330\n",
        "print(\"A\") if a > b else print(\"B\")"
      ]
    },
    {
      "cell_type": "markdown",
      "id": "69700e14",
      "metadata": {
        "id": "69700e14"
      },
      "source": [
        "* This technique is known as Ternary Operators, or Conditional Expressions.\n",
        "\n",
        "You can also have multiple else statements on the same line:"
      ]
    },
    {
      "cell_type": "code",
      "execution_count": null,
      "id": "b0486a0d",
      "metadata": {
        "id": "b0486a0d",
        "outputId": "f635b07f-73e5-405f-db90-4cdd2ef08b41"
      },
      "outputs": [
        {
          "name": "stdout",
          "output_type": "stream",
          "text": [
            "=\n"
          ]
        }
      ],
      "source": [
        "#Example\n",
        "#One line if else statement, with 3 conditions:\n",
        "\n",
        "a = 330\n",
        "b = 330\n",
        "print(\"A\") if a > b else print(\"=\") if a == b else print(\"B\")"
      ]
    },
    {
      "cell_type": "markdown",
      "id": "36bdc2a7",
      "metadata": {
        "id": "36bdc2a7"
      },
      "source": [
        "# And\n",
        "The and keyword is a logical operator, and is used to combine conditional statements:"
      ]
    },
    {
      "cell_type": "code",
      "execution_count": null,
      "id": "84168375",
      "metadata": {
        "id": "84168375",
        "outputId": "71df615e-0ec8-4c4e-a7f7-f26019f2d5b9"
      },
      "outputs": [
        {
          "name": "stdout",
          "output_type": "stream",
          "text": [
            "Both conditions are True\n"
          ]
        }
      ],
      "source": [
        "#Example\n",
        "#Test if a is greater than b, AND if c is greater than a:\n",
        "\n",
        "a = 200\n",
        "b = 33\n",
        "c = 500\n",
        "if a > b and c > a:\n",
        "  print(\"Both conditions are True\")"
      ]
    },
    {
      "cell_type": "markdown",
      "id": "ae9796ec",
      "metadata": {
        "id": "ae9796ec"
      },
      "source": [
        "# Or\n",
        "The or keyword is a logical operator, and is used to combine conditional statements:"
      ]
    },
    {
      "cell_type": "code",
      "execution_count": null,
      "id": "461b17fe",
      "metadata": {
        "id": "461b17fe",
        "outputId": "363da564-536a-4827-ce00-dcd847a9483c"
      },
      "outputs": [
        {
          "name": "stdout",
          "output_type": "stream",
          "text": [
            "At least one of the conditions is True\n"
          ]
        }
      ],
      "source": [
        "#Example\n",
        "#Test if a is greater than b, OR if a is greater than c:\n",
        "\n",
        "a = 200\n",
        "b = 33\n",
        "c = 500\n",
        "if a > b or a > c:\n",
        "  print(\"At least one of the conditions is True\")"
      ]
    },
    {
      "cell_type": "markdown",
      "id": "5f152b09",
      "metadata": {
        "id": "5f152b09"
      },
      "source": [
        "# Nested If\n",
        "You can have if statements inside if statements, this is called nested if statements."
      ]
    },
    {
      "cell_type": "code",
      "execution_count": null,
      "id": "a56818aa",
      "metadata": {
        "id": "a56818aa",
        "outputId": "d88f010a-1404-498d-a91d-1c9e10674e4e"
      },
      "outputs": [
        {
          "name": "stdout",
          "output_type": "stream",
          "text": [
            "Above ten,\n",
            "and also above 20!\n"
          ]
        }
      ],
      "source": [
        "#Example\n",
        "x = 41\n",
        "\n",
        "if x > 10:\n",
        "  print(\"Above ten,\")\n",
        "  if x > 20:\n",
        "    print(\"and also above 20!\")\n",
        "  else:\n",
        "    print(\"but not above 20.\")"
      ]
    },
    {
      "cell_type": "markdown",
      "id": "d8eb9fa9",
      "metadata": {
        "id": "d8eb9fa9"
      },
      "source": [
        "# The pass Statement\n",
        "if statements cannot be empty, but if you for some reason have an if statement with no content, put in the pass statement to avoid getting an error."
      ]
    },
    {
      "cell_type": "code",
      "execution_count": null,
      "id": "54f3237f",
      "metadata": {
        "id": "54f3237f"
      },
      "outputs": [],
      "source": [
        "#Example\n",
        "a = 33\n",
        "b = 200\n",
        "\n",
        "if b > a:\n",
        "  pass"
      ]
    },
    {
      "cell_type": "markdown",
      "id": "390c09e0",
      "metadata": {
        "id": "390c09e0"
      },
      "source": [
        "# Python Loops\n",
        "Python has two primitive loop commands:\n",
        "\n",
        "- while loops\n",
        "- for loops\n",
        "\n",
        "# The while Loop\n",
        "With the while loop we can execute a set of statements as long as a condition is true."
      ]
    },
    {
      "cell_type": "code",
      "execution_count": null,
      "id": "c34a6357",
      "metadata": {
        "id": "c34a6357",
        "outputId": "9827cde9-df15-48bd-8687-4e63169ddaac"
      },
      "outputs": [
        {
          "name": "stdout",
          "output_type": "stream",
          "text": [
            "1\n",
            "2\n",
            "3\n",
            "4\n",
            "5\n"
          ]
        }
      ],
      "source": [
        "#Example\n",
        "#Print i as long as i is less than 6:\n",
        "\n",
        "i = 1\n",
        "while i < 6:\n",
        "  print(i)\n",
        "  i += 1"
      ]
    },
    {
      "cell_type": "markdown",
      "id": "61a4000c",
      "metadata": {
        "id": "61a4000c"
      },
      "source": [
        "* Note: remember to increment i, or else the loop will continue forever.\n",
        "\n",
        "The while loop requires relevant variables to be ready, in this example we need to define an indexing variable, i, which we set to 1.\n",
        "\n",
        "# The break Statement\n",
        "With the break statement we can stop the loop even if the while condition is true:"
      ]
    },
    {
      "cell_type": "code",
      "execution_count": null,
      "id": "b5b87931",
      "metadata": {
        "id": "b5b87931",
        "outputId": "c18d1637-cf99-4557-a7da-d90dde8313ac"
      },
      "outputs": [
        {
          "name": "stdout",
          "output_type": "stream",
          "text": [
            "1\n",
            "2\n",
            "3\n"
          ]
        }
      ],
      "source": [
        "#Example\n",
        "#Exit the loop when i is 3:\n",
        "\n",
        "i = 1\n",
        "while i < 6:\n",
        "  print(i)\n",
        "  if i == 3:\n",
        "    break\n",
        "  i += 1"
      ]
    },
    {
      "cell_type": "markdown",
      "id": "21adbcfc",
      "metadata": {
        "id": "21adbcfc"
      },
      "source": [
        "# The continue Statement\n",
        "With the continue statement we can stop the current iteration, and continue with the next:"
      ]
    },
    {
      "cell_type": "code",
      "execution_count": null,
      "id": "912e9210",
      "metadata": {
        "id": "912e9210",
        "outputId": "79bfab3b-de8d-439e-ff4d-014ac6c7aa52"
      },
      "outputs": [
        {
          "name": "stdout",
          "output_type": "stream",
          "text": [
            "1\n",
            "2\n",
            "4\n",
            "5\n",
            "6\n"
          ]
        }
      ],
      "source": [
        "#Example\n",
        "#Continue to the next iteration if i is 3:\n",
        "\n",
        "i = 0\n",
        "while i < 6:\n",
        "  i += 1\n",
        "  if i == 3:\n",
        "    continue\n",
        "  print(i)"
      ]
    },
    {
      "cell_type": "markdown",
      "id": "de9584e5",
      "metadata": {
        "id": "de9584e5"
      },
      "source": [
        "# The else Statement\n",
        "With the else statement we can run a block of code once when the condition no longer is true:"
      ]
    },
    {
      "cell_type": "code",
      "execution_count": null,
      "id": "9ec77e78",
      "metadata": {
        "id": "9ec77e78",
        "outputId": "92c8cab0-0348-48d9-bbb8-8494ca43c0be"
      },
      "outputs": [
        {
          "name": "stdout",
          "output_type": "stream",
          "text": [
            "1\n",
            "2\n",
            "3\n",
            "4\n",
            "5\n",
            "i is no longer less than 6\n"
          ]
        }
      ],
      "source": [
        "#Example\n",
        "#Print a message once the condition is false:\n",
        "\n",
        "i = 1\n",
        "while i < 6:\n",
        "  print(i)\n",
        "  i += 1\n",
        "else:\n",
        "  print(\"i is no longer less than 6\")"
      ]
    },
    {
      "cell_type": "markdown",
      "id": "246dd977",
      "metadata": {
        "id": "246dd977"
      },
      "source": [
        "# Python For Loops\n",
        "A for loop is used for iterating over a sequence (that is either a list, a tuple, a dictionary, a set, or a string).\n",
        "\n",
        "This is less like the for keyword in other programming languages, and works more like an iterator method as found in other object-orientated programming languages.\n",
        "\n",
        "With the for loop we can execute a set of statements, once for each item in a list, tuple, set etc."
      ]
    },
    {
      "cell_type": "code",
      "execution_count": null,
      "id": "0b40223b",
      "metadata": {
        "id": "0b40223b",
        "outputId": "3f09b3c2-3574-4c8b-e91f-25557f2e6460"
      },
      "outputs": [
        {
          "name": "stdout",
          "output_type": "stream",
          "text": [
            "apple\n",
            "banana\n",
            "cherry\n"
          ]
        }
      ],
      "source": [
        "#Example\n",
        "#Print each fruit in a fruit list:\n",
        "\n",
        "fruits = [\"apple\", \"banana\", \"cherry\"]\n",
        "for x in fruits:\n",
        "  print(x)"
      ]
    },
    {
      "cell_type": "markdown",
      "id": "a1030ba1",
      "metadata": {
        "id": "a1030ba1"
      },
      "source": [
        "The for loop does not require an indexing variable to set beforehand.\n",
        "\n",
        "# Looping Through a String\n",
        "Even strings are iterable objects, they contain a sequence of characters:"
      ]
    },
    {
      "cell_type": "code",
      "execution_count": null,
      "id": "c4817db4",
      "metadata": {
        "id": "c4817db4",
        "outputId": "767242d7-98da-43e1-f7df-e7f64e5ee520"
      },
      "outputs": [
        {
          "name": "stdout",
          "output_type": "stream",
          "text": [
            "b\n",
            "a\n",
            "n\n",
            "a\n",
            "n\n",
            "a\n"
          ]
        }
      ],
      "source": [
        "#Example\n",
        "#Loop through the letters in the word \"banana\":\n",
        "\n",
        "for x in \"banana\":\n",
        "  print(x)"
      ]
    },
    {
      "cell_type": "markdown",
      "id": "a01159f8",
      "metadata": {
        "id": "a01159f8"
      },
      "source": [
        "# The break Statement\n",
        "With the break statement we can stop the loop before it has looped through all the items:"
      ]
    },
    {
      "cell_type": "code",
      "execution_count": null,
      "id": "1fe38d97",
      "metadata": {
        "id": "1fe38d97",
        "outputId": "303d19cd-5798-4bc6-8462-dfab2a520af4"
      },
      "outputs": [
        {
          "name": "stdout",
          "output_type": "stream",
          "text": [
            "apple\n",
            "banana\n"
          ]
        }
      ],
      "source": [
        "#Example\n",
        "#Exit the loop when x is \"banana\":\n",
        "\n",
        "fruits = [\"apple\", \"banana\", \"cherry\"]\n",
        "for x in fruits:\n",
        "  print(x)\n",
        "  if x == \"banana\":\n",
        "    break"
      ]
    },
    {
      "cell_type": "code",
      "execution_count": null,
      "id": "0d3bade5",
      "metadata": {
        "id": "0d3bade5",
        "outputId": "55e1cf62-7fba-4bf1-bcae-51c7c7dcb3ca"
      },
      "outputs": [
        {
          "name": "stdout",
          "output_type": "stream",
          "text": [
            "apple\n"
          ]
        }
      ],
      "source": [
        "#Example\n",
        "#Exit the loop when x is \"banana\", but this time the break comes before the print:\n",
        "\n",
        "fruits = [\"apple\", \"banana\", \"cherry\"]\n",
        "for x in fruits:\n",
        "  if x == \"banana\":\n",
        "    break\n",
        "  print(x)"
      ]
    },
    {
      "cell_type": "markdown",
      "id": "aa29b404",
      "metadata": {
        "id": "aa29b404"
      },
      "source": [
        "# The continue Statement\n",
        "With the continue statement we can stop the current iteration of the loop, and continue with the next:"
      ]
    },
    {
      "cell_type": "code",
      "execution_count": null,
      "id": "66fd6592",
      "metadata": {
        "id": "66fd6592",
        "outputId": "7205319b-28cd-4f8c-98b3-4a26b726da84"
      },
      "outputs": [
        {
          "name": "stdout",
          "output_type": "stream",
          "text": [
            "apple\n",
            "cherry\n"
          ]
        }
      ],
      "source": [
        "#Example\n",
        "#Do not print banana:\n",
        "\n",
        "fruits = [\"apple\", \"banana\", \"cherry\"]\n",
        "for x in fruits:\n",
        "  if x == \"banana\":\n",
        "    continue\n",
        "  print(x)"
      ]
    },
    {
      "cell_type": "markdown",
      "id": "621ed62d",
      "metadata": {
        "id": "621ed62d"
      },
      "source": [
        "# The range() Function\n",
        "To loop through a set of code a specified number of times, we can use the range() function,\n",
        "The range() function returns a sequence of numbers, starting from 0 by default, and increments by 1 (by default), and ends at a specified number."
      ]
    },
    {
      "cell_type": "code",
      "execution_count": null,
      "id": "a5e1e2d4",
      "metadata": {
        "id": "a5e1e2d4",
        "outputId": "9c1df529-15b5-41ec-80bf-28c3dafc2cb2"
      },
      "outputs": [
        {
          "name": "stdout",
          "output_type": "stream",
          "text": [
            "0\n",
            "1\n",
            "2\n",
            "3\n",
            "4\n",
            "5\n"
          ]
        }
      ],
      "source": [
        "#Example\n",
        "#Using the range() function:\n",
        "\n",
        "for x in range(6):\n",
        "  print(x)"
      ]
    },
    {
      "cell_type": "markdown",
      "id": "3f62c8de",
      "metadata": {
        "id": "3f62c8de"
      },
      "source": [
        " * Note that range(6) is not the values of 0 to 6, but the values 0 to 5.\n",
        "\n",
        "The range() function defaults to 0 as a starting value, however it is possible to specify the starting value by adding a parameter: range(2, 6), which means values from 2 to 6 (but not including 6):"
      ]
    },
    {
      "cell_type": "code",
      "execution_count": null,
      "id": "f08fa8e4",
      "metadata": {
        "id": "f08fa8e4",
        "outputId": "141ccf76-a649-4017-8f4d-6d6e775f5564"
      },
      "outputs": [
        {
          "name": "stdout",
          "output_type": "stream",
          "text": [
            "2\n",
            "3\n",
            "4\n",
            "5\n"
          ]
        }
      ],
      "source": [
        "#Example\n",
        "#Using the start parameter:\n",
        "\n",
        "for x in range(2, 6):\n",
        "  print(x)"
      ]
    },
    {
      "cell_type": "code",
      "execution_count": null,
      "id": "e4579c06",
      "metadata": {
        "id": "e4579c06"
      },
      "outputs": [],
      "source": []
    }
  ],
  "metadata": {
    "kernelspec": {
      "display_name": "Python 3 (ipykernel)",
      "language": "python",
      "name": "python3"
    },
    "language_info": {
      "codemirror_mode": {
        "name": "ipython",
        "version": 3
      },
      "file_extension": ".py",
      "mimetype": "text/x-python",
      "name": "python",
      "nbconvert_exporter": "python",
      "pygments_lexer": "ipython3",
      "version": "3.9.7"
    },
    "colab": {
      "provenance": [],
      "include_colab_link": true
    }
  },
  "nbformat": 4,
  "nbformat_minor": 5
}